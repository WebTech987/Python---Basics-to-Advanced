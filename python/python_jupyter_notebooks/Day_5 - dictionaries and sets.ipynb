{
 "cells": [
  {
   "cell_type": "markdown",
   "id": "4987aeaf",
   "metadata": {},
   "source": [
    "### Programs on Dictionaries and Sets"
   ]
  },
  {
   "cell_type": "markdown",
   "id": "77863e6d",
   "metadata": {},
   "source": [
    "# Dictionary"
   ]
  },
  {
   "cell_type": "code",
   "execution_count": 2,
   "id": "855af251",
   "metadata": {},
   "outputs": [
    {
     "name": "stdout",
     "output_type": "stream",
     "text": [
      "please enter the key : s\n",
      "please enter the value : suraj\n",
      "{'s': 'suraj'}\n"
     ]
    }
   ],
   "source": [
    "#program to preint key-value pair in dictionary\n",
    "D1 = {}\n",
    "K1  = input(\"please enter the key : \")\n",
    "V1  = input(\"please enter the value : \")\n",
    "\n",
    "D1[K1] = V1\n",
    "print(D1)"
   ]
  },
  {
   "cell_type": "code",
   "execution_count": 6,
   "id": "a4964522",
   "metadata": {},
   "outputs": [
    {
     "name": "stdout",
     "output_type": "stream",
     "text": [
      "please enter the key you wants to check  : s\n",
      "yes it exists in the Dictionary \n",
      "Key =  s  and Value =  suraj\n"
     ]
    }
   ],
   "source": [
    "# program to find existence of a key \n",
    "D1 = {'s': 'suraj', 'r': 'raja', 'n': 'naman'}\n",
    "K1  = input(\"please enter the key you wants to check  : \")\n",
    "\n",
    "if K1 in D1.keys() :\n",
    "    print(\"yes it exists in the Dictionary \")\n",
    "    print(\"Key = \", K1, \" and Value = \", D1[K1])\n",
    "else:\n",
    "    print(\"sorry ! it doesn't exists in the Dictionary \")"
   ]
  },
  {
   "cell_type": "code",
   "execution_count": 7,
   "id": "49b13090",
   "metadata": {},
   "outputs": [
    {
     "name": "stdout",
     "output_type": "stream",
     "text": [
      "please enter any string : suraj ahirwar banpur\n",
      "Dictionary Items  :   {'suraj': 1, 'ahirwar': 1, 'banpur': 1}\n"
     ]
    }
   ],
   "source": [
    "#Program to Count words in a String with the help of Dictionary\n",
    "S1 = input(\"please enter any string : \")\n",
    "\n",
    "W = []\n",
    "\n",
    "W = S1.split()\n",
    "\n",
    "n = [W.count(i) for i in W]\n",
    "\n",
    "D1 = dict(zip(W, n))\n",
    "print(\"Dictionary Items  :  \", D1)"
   ]
  },
  {
   "cell_type": "code",
   "execution_count": 10,
   "id": "1ea0ee01",
   "metadata": {},
   "outputs": [
    {
     "name": "stdout",
     "output_type": "stream",
     "text": [
      "please enter the maximum number  :6\n",
      "The final string is : \n",
      "{1: 1, 2: 4, 3: 9, 4: 16, 5: 25, 6: 36}\n"
     ]
    }
   ],
   "source": [
    "#program to create a dictionary in (x, x*x) form\n",
    "D1 = {}\n",
    "n = int(input(\"please enter the maximum number  :\"))\n",
    "\n",
    "print(\"The final string is : \")\n",
    "for i in range(1, n+1) :\n",
    "    D1[i] = i*i\n",
    "    \n",
    "print(D1)"
   ]
  },
  {
   "cell_type": "code",
   "execution_count": 12,
   "id": "4b1b5653",
   "metadata": {},
   "outputs": [
    {
     "name": "stdout",
     "output_type": "stream",
     "text": [
      "Final dictionary is  :   {'name': 'sumit', 'job': 'engineer', 'salary': 150000, 'age': 22}\n"
     ]
    }
   ],
   "source": [
    "#program to map two lists to create new dictionay\n",
    "L1 = ['name', 'job', 'salary', 'age']\n",
    "L2 = ['sumit', 'engineer', 150000, 22]\n",
    "\n",
    "D1 = {k: v for k, v in zip(L1, L2)}\n",
    "print(\"Final dictionary is  :  \",  D1)"
   ]
  },
  {
   "cell_type": "code",
   "execution_count": 13,
   "id": "c7407761",
   "metadata": {},
   "outputs": [
    {
     "name": "stdout",
     "output_type": "stream",
     "text": [
      "First Dictionary:  {1: 'apple', 2: 'Banana', 3: 'Orange'}\n",
      "Second Dictionary:  {4: 'Kiwi', 5: 'Mango'}\n",
      "\n",
      " the final updated dictionay is  : \n",
      "{1: 'apple', 2: 'Banana', 3: 'Orange', 4: 'Kiwi', 5: 'Mango'}\n"
     ]
    }
   ],
   "source": [
    "#program to add two dictionay\n",
    "D1 = {1: 'apple', 2: 'Banana' , 3: 'Orange'}\n",
    "D2 = { 4: 'Kiwi', 5: 'Mango'}\n",
    "print(\"First Dictionary: \", D1)\n",
    "print(\"Second Dictionary: \", D2)\n",
    "\n",
    "D1.update(D2)\n",
    "    \n",
    "print(\"\\n the final updated dictionay is  : \")\n",
    "print(D1)"
   ]
  },
  {
   "cell_type": "code",
   "execution_count": 16,
   "id": "ad72cde7",
   "metadata": {},
   "outputs": [
    {
     "name": "stdout",
     "output_type": "stream",
     "text": [
      "the given dictionary :  {'x': 20, 'y': 5, 'z': 60}\n",
      "\n",
      " total multiplication of dictionary items :  6000\n",
      "\n",
      " total sum of dictionary items :  85\n"
     ]
    }
   ],
   "source": [
    "#program to calculate sum and multiply of all dictionay items\n",
    "D1 = {'x': 20, 'y':5, 'z':60}\n",
    "print(\"the given dictionary : \", D1)\n",
    "\n",
    "mul = 1\n",
    "sum = 0\n",
    "# Multiply Items\n",
    "for key in D1 :\n",
    "    mul = mul * D1[key]\n",
    "    sum = sum + D1[key]\n",
    "print(\"\\n total multiplication of dictionary items : \", mul)\n",
    "print(\"\\n total sum of dictionary items : \", sum)"
   ]
  },
  {
   "cell_type": "code",
   "execution_count": 17,
   "id": "b3c37b39",
   "metadata": {},
   "outputs": [
    {
     "name": "stdout",
     "output_type": "stream",
     "text": [
      "Dictionary Items  :   {'name': 'John', 'age': 25, 'job': 'Developer'}\n",
      "Please enter the key that you want to Delete : name\n",
      "\n",
      " final dictionary after removing element =  {'age': 25, 'job': 'Developer'}\n"
     ]
    }
   ],
   "source": [
    "#program to remove an element from the dictionary\n",
    "\n",
    "D1 = {'name': 'sumit', 'age': 22, 'job': 'Engineer'}\n",
    "print(\"Dictionary Items  :  \",  D1)\n",
    "\n",
    "K = input(\"Please enter the key that you want to Delete : \")\n",
    "\n",
    "if K in D1.keys():\n",
    "    del D1[K]\n",
    "    \n",
    "else:\n",
    "    print(\"Given input is Not in this Dictionary\")\n",
    "    \n",
    "print(\"\\n final dictionary after removing element = \", D1)\n"
   ]
  },
  {
   "cell_type": "markdown",
   "id": "b0e94b20",
   "metadata": {},
   "source": [
    "### SETS"
   ]
  },
  {
   "cell_type": "code",
   "execution_count": 21,
   "id": "8a3a3929",
   "metadata": {},
   "outputs": [
    {
     "name": "stdout",
     "output_type": "stream",
     "text": [
      "{}\n",
      "set()\n",
      "{2, 4, 6, 8, 10}\n",
      "<class 'set'>\n",
      "{'USA', 'France', 'India', 'UK', 'Russia', 'China'}\n",
      "<class 'set'>\n",
      "{'a', 'o', 'G', 'e', ' ', 'w', 'y', 'i', 'r', 'T', 'l', 't', 'u'}\n",
      "<class 'set'>\n"
     ]
    }
   ],
   "source": [
    "#program to create a set \n",
    "S1 = {}\n",
    "S2 = set()\n",
    "print(S1)\n",
    "print(S2)\n",
    "\n",
    "s1 = {2, 4, 6, 8, 10}\n",
    "print(s1)\n",
    "print(type(s1))\n",
    "\n",
    "s2 = set(['USA', 'China', 'UK', 'Russia', 'India', 'France'])\n",
    "print(s2)\n",
    "print(type(s2))\n",
    "\n",
    "s3 = set(\"thor the dark world\")\n",
    "print(s3)\n",
    "print(type(s3))"
   ]
  },
  {
   "cell_type": "code",
   "execution_count": 20,
   "id": "b95074b5",
   "metadata": {},
   "outputs": [
    {
     "name": "stdout",
     "output_type": "stream",
     "text": [
      "Count of even numbers in the set : 4\n",
      "Count of odd numbers in the set : 3\n",
      "Count of positive numbers in the set : 7\n",
      "Count of negative numbers in the set : 0\n"
     ]
    }
   ],
   "source": [
    "#program to Count Even, Odd, positive and negative numbers in Set\n",
    "S1 = {11, 23, 45, 54, 66, 80, 90}\n",
    "\n",
    "E = O = z = 0\n",
    "P = N = 0\n",
    "for V1 in S1 :\n",
    "    if (V1%2 == 0) :\n",
    "        E = E + 1        \n",
    "    else :\n",
    "        O = O + 1\n",
    "        \n",
    "for V1 in S1 :\n",
    "    if (V1> 0) :\n",
    "        P = P + 1\n",
    "        \n",
    "    elif (V1< 0) :\n",
    "        N = N + 1\n",
    "    else :\n",
    "        z = z +1\n",
    "print('Count of even numbers in the set : {0}'.format(E))        \n",
    "print('Count of odd numbers in the set : {0}'.format(O))       \n",
    "print('Count of positive numbers in the set : {0}'.format(P))        \n",
    "print('Count of negative numbers in the set : {0}'.format(N))       "
   ]
  },
  {
   "cell_type": "code",
   "execution_count": 24,
   "id": "3296c149",
   "metadata": {},
   "outputs": [
    {
     "name": "stdout",
     "output_type": "stream",
     "text": [
      "<class 'set'>\n",
      "2 4 6 8 10 <class 'set'>\n",
      "d a o   w k h r e t l "
     ]
    }
   ],
   "source": [
    "#program to iterate total items in the sets\n",
    "S1 = {2, 4, 6, 8, 10}\n",
    "print(type(s1))\n",
    "\n",
    "L1 = list(S1)\n",
    "for i in range(len(L1)):\n",
    "    print(L1[i], end = ' ')\n",
    "    \n",
    "S2 = set(\"thor the dark world\")\n",
    "print(type(S2))\n",
    "\n",
    "L2 = list(S2)\n",
    "for i in range(len(L2)):\n",
    "    print(L2[i], end = ' ')\n"
   ]
  },
  {
   "cell_type": "code",
   "execution_count": 32,
   "id": "d2e40864",
   "metadata": {},
   "outputs": [
    {
     "name": "stdout",
     "output_type": "stream",
     "text": [
      "<class 'set'>\n",
      "the largest element in the set is :  10\n",
      "the smallest element in the set is :  2\n"
     ]
    }
   ],
   "source": [
    "#program to print largest and smallest item of the set : \n",
    "S1 = {2, 4, 6, 8, 10}\n",
    "print(type(s1))\n",
    "\n",
    "print(\"the largest element in the set is : \", max(S1))\n",
    "print(\"the smallest element in the set is : \", min(S1))"
   ]
  },
  {
   "cell_type": "code",
   "execution_count": 31,
   "id": "00e3bdf8",
   "metadata": {},
   "outputs": [
    {
     "name": "stdout",
     "output_type": "stream",
     "text": [
      "Enter the Total Set Items = 3\n",
      "Enter the 1 Set value = suraj\n",
      "Enter the 2 Set value = 44\n",
      "Enter the 3 Set value = 67.4\n",
      "Set Items =  {'67.4', 'suraj', '44'}\n",
      "Set Length =  3\n"
     ]
    }
   ],
   "source": [
    "#program to import a set \n",
    "S1 = set()\n",
    "n = int(input(\"Enter the Total Set Items = \"))\n",
    "for i in range(1, n + 1):\n",
    "    V = input(\"Enter the %d Set value = \" %i)\n",
    "    S1.add(V)\n",
    "    \n",
    "print(\"Set Items = \", S1)\n",
    "\n",
    "L1 = len(S1)\n",
    "print(\"Set Length = \", L1)"
   ]
  },
  {
   "cell_type": "markdown",
   "id": "858dccca",
   "metadata": {},
   "source": [
    "# Thanks"
   ]
  }
 ],
 "metadata": {
  "kernelspec": {
   "display_name": "Python 3 (ipykernel)",
   "language": "python",
   "name": "python3"
  },
  "language_info": {
   "codemirror_mode": {
    "name": "ipython",
    "version": 3
   },
   "file_extension": ".py",
   "mimetype": "text/x-python",
   "name": "python",
   "nbconvert_exporter": "python",
   "pygments_lexer": "ipython3",
   "version": "3.9.7"
  }
 },
 "nbformat": 4,
 "nbformat_minor": 5
}
