{
 "cells": [
  {
   "cell_type": "markdown",
   "id": "585aa4e4",
   "metadata": {},
   "source": [
    "# Basic programs"
   ]
  },
  {
   "cell_type": "code",
   "execution_count": 1,
   "id": "404d91f1",
   "metadata": {},
   "outputs": [
    {
     "name": "stdout",
     "output_type": "stream",
     "text": [
      "hello world\n",
      "i'm suraj and i can do it\n"
     ]
    }
   ],
   "source": [
    "#print statement \n",
    "print(\"hello world\")\n",
    "print(\"i'm suraj and i can do it\")"
   ]
  },
  {
   "cell_type": "code",
   "execution_count": 2,
   "id": "5ae27931",
   "metadata": {},
   "outputs": [
    {
     "name": "stdout",
     "output_type": "stream",
     "text": [
      "please enter 1st number : 4\n",
      "please enter 2nd number : 2\n",
      "the sum of two numbers is 6.0\n",
      "the subtraction of two numbers is 2.0\n",
      "the multiplication of two numbers is 8.0\n",
      "the division of two numbers is 2.0\n",
      "the remainder of two numbers is 0.0\n",
      "the exponential of two numbers is 16.0\n"
     ]
    }
   ],
   "source": [
    "#program  to apply arithmetic operations on two numbers \n",
    "n1 = float(input(\"please enter 1st number : \"))\n",
    "n2 = float(input(\"please enter 2nd number : \"))\n",
    "sum = n1 + n2\n",
    "print('the sum of two numbers is {0}'.format(sum))\n",
    "\n",
    "sub = n1 - n2\n",
    "print('the subtraction of two numbers is {0}'.format(sub))\n",
    "\n",
    "mul = n1 * n2\n",
    "print('the multiplication of two numbers is {0}'.format(mul))\n",
    "\n",
    "div = n1 / n2\n",
    "print('the division of two numbers is {0}'.format(div))\n",
    "\n",
    "remainder = n1 % n2\n",
    "print('the remainder of two numbers is {0}'.format(remainder))\n",
    "\n",
    "\n",
    "exponential = n1 ** n2\n",
    "print('the exponential of two numbers is {0}'.format(exponential))\n"
   ]
  },
  {
   "cell_type": "code",
   "execution_count": 3,
   "id": "a26962cf",
   "metadata": {},
   "outputs": [
    {
     "name": "stdout",
     "output_type": "stream",
     "text": [
      "pleasr enter year number : 2022\n",
      "pleasr enter month number : 7\n",
      "     July 2022\n",
      "Mo Tu We Th Fr Sa Su\n",
      "             1  2  3\n",
      " 4  5  6  7  8  9 10\n",
      "11 12 13 14 15 16 17\n",
      "18 19 20 21 22 23 24\n",
      "25 26 27 28 29 30 31\n",
      "\n"
     ]
    }
   ],
   "source": [
    "#program to print calendar \n",
    "import calendar\n",
    "year = int(input(\"pleasr enter year number : \"))\n",
    "month = int(input(\"pleasr enter month number : \"))\n",
    "\n",
    "print(calendar.month(year,month))"
   ]
  },
  {
   "cell_type": "code",
   "execution_count": 4,
   "id": "2498ecdc",
   "metadata": {},
   "outputs": [
    {
     "name": "stdout",
     "output_type": "stream",
     "text": [
      "please enter 1st number : 24\n",
      "please enter 2nd number : 6\n",
      "24.0 is greater than 6.0, so the largest number is 24.0\n"
     ]
    }
   ],
   "source": [
    "#program to print larger of two numbers \n",
    "n1 = float(input(\"please enter 1st number : \"))\n",
    "n2 = float(input(\"please enter 2nd number : \"))\n",
    "\n",
    "if n1 < n2 :\n",
    "    print('{0} is greater than {1}, so the largest number is {0}'.format(n2, n1))\n",
    "elif n2 < n1 :\n",
    "    print('{0} is greater than {1}, so the largest number is {0}'.format(n1, n2))\n",
    "else :\n",
    "    print('Entered numbers {0}, {1} are same'.format(n1, n2))\n",
    "    "
   ]
  },
  {
   "cell_type": "code",
   "execution_count": 5,
   "id": "74eba3d0",
   "metadata": {},
   "outputs": [
    {
     "name": "stdout",
     "output_type": "stream",
     "text": [
      "please enter 1st number : 3\n",
      "please enter 2nd number : 2\n",
      "please enter 3rd number : 5\n",
      "5.0 is the largest number in 3.0, 2.0, 5.0\n"
     ]
    }
   ],
   "source": [
    "#program to print largest in three numbers \n",
    "n1 = float(input(\"please enter 1st number : \"))\n",
    "n2 = float(input(\"please enter 2nd number : \"))\n",
    "n3 = float(input(\"please enter 3rd number : \"))\n",
    "\n",
    "if n1>n2 :\n",
    "    if n1>n3 :\n",
    "        print('{0} is the largest number in {0}, {1}, {2}'.format(n1, n2, n3))\n",
    "    else :\n",
    "        print('{0} is the largest number in {2}, {1}, {0}'.format(n3, n2, n1))\n",
    "else :\n",
    "    if n2>n3 :\n",
    "        print('{0} is the largest number in {1}, {0}, {2}'.format(n2, n1, n3))\n",
    "    else :\n",
    "        print('{0} is the largest number in {2}, {1}, {0}'.format(n3, n2, n1))"
   ]
  },
  {
   "cell_type": "code",
   "execution_count": 6,
   "id": "499ae9fc",
   "metadata": {},
   "outputs": [
    {
     "name": "stdout",
     "output_type": "stream",
     "text": [
      "please enter the last natural number you want to print : 3\n",
      "1 2 3 "
     ]
    }
   ],
   "source": [
    "#program to print natural numbers\n",
    "n1 = int(input(\"please enter the last natural number you want to print : \"))\n",
    "for i in range( 1, n1+1) :\n",
    "    print(i, end=' ')\n"
   ]
  },
  {
   "cell_type": "code",
   "execution_count": 7,
   "id": "69420d05",
   "metadata": {},
   "outputs": [
    {
     "name": "stdout",
     "output_type": "stream",
     "text": [
      "Please enter the extreme value : 5\n",
      "The even numbers from 1 to 5 are : \n",
      "2\n",
      "4\n",
      "The odd numbers from 1 to 5 are : \n",
      "1\n",
      "3\n"
     ]
    }
   ],
   "source": [
    "#program to print even and odd numbers from a row of natural numbers\n",
    "n = int(input(\"Please enter the extreme value : \"))\n",
    "i =0  \n",
    "print('The even numbers from 1 to {0} are : '.format(n))\n",
    "for i in range( 1, n) :\n",
    "    if (i%2 == 0):\n",
    "        print(i)\n",
    "        \n",
    "print('The odd numbers from 1 to {0} are : '.format(n))\n",
    "for i in range( 1, n) :\n",
    "    if (i%2 != 0):\n",
    "        print(i)"
   ]
  },
  {
   "cell_type": "code",
   "execution_count": 8,
   "id": "88adc4a2",
   "metadata": {},
   "outputs": [
    {
     "name": "stdout",
     "output_type": "stream",
     "text": [
      "Please enter the extremest negative value : -3\n",
      "The negative numbers upto -3\n",
      "-1\n",
      "-2\n",
      "-3\n",
      "The positive numbers upto 3\n",
      "1\n",
      "2\n",
      "3\n"
     ]
    }
   ],
   "source": [
    "#program to print negative and positive numbers for a range\n",
    "n = int(input(\"Please enter the extremest negative value : \"))\n",
    "a = -n\n",
    "print('The negative numbers upto {0}'.format(n))\n",
    "for i in range(1, (a+1)) :\n",
    "    print(-i)\n",
    "    \n",
    "print('The positive numbers upto {0}'.format(a))\n",
    "for i in range(1, (a+1)) :\n",
    "    print(i)"
   ]
  },
  {
   "cell_type": "code",
   "execution_count": 9,
   "id": "29b937db",
   "metadata": {},
   "outputs": [
    {
     "name": "stdout",
     "output_type": "stream",
     "text": [
      "Please enter the number : 3\n",
      "The enterd number is positive\n"
     ]
    }
   ],
   "source": [
    "#program to check a number is positive, negative or zero\n",
    "n = int(input(\"Please enter the number : \"))\n",
    "\n",
    "if n<0 : \n",
    "    print(\"The enterd number is negative\")\n",
    "elif n>0 :\n",
    "    print(\"The enterd number is positive\")\n",
    "else :\n",
    "    print(\"The enterd number is zero\")"
   ]
  },
  {
   "cell_type": "code",
   "execution_count": 10,
   "id": "17522597",
   "metadata": {},
   "outputs": [
    {
     "name": "stdout",
     "output_type": "stream",
     "text": [
      "Please enter the number : 4\n",
      "The square root of the number is : 2.0\n"
     ]
    }
   ],
   "source": [
    "#program to find square root of a number\n",
    "import math\n",
    "n = float(input(\"Please enter the number : \"))\n",
    "a = float(n**0.5)            #a = math.sqrt(n)\n",
    "print('The square root of the number is : {0}'.format(a))"
   ]
  },
  {
   "cell_type": "code",
   "execution_count": 11,
   "id": "25501d95",
   "metadata": {},
   "outputs": [
    {
     "name": "stdout",
     "output_type": "stream",
     "text": [
      "Please enter the number : 4\n",
      "1\n",
      "2\n",
      "4\n"
     ]
    }
   ],
   "source": [
    "#program to calculate divisors of a number \n",
    "n = int(input(\"Please enter the number : \"))\n",
    "for i in range(1, n+1):\n",
    "    if n%i ==0 : \n",
    "        print(i)\n"
   ]
  },
  {
   "cell_type": "code",
   "execution_count": 12,
   "id": "fe39b554",
   "metadata": {},
   "outputs": [
    {
     "name": "stdout",
     "output_type": "stream",
     "text": [
      "Please enter the number : 3\n",
      "Please enter the number till you want the multiplication : 2\n",
      "3.0\n",
      "6.0\n"
     ]
    }
   ],
   "source": [
    "#program to print multiplication table of a number\n",
    "n = float(input(\"Please enter the number : \"))\n",
    "a = int(input(\"Please enter the number till you want the multiplication : \"))\n",
    "for i in range(1, a+1):\n",
    "    x = i*n \n",
    "    print(x)"
   ]
  },
  {
   "cell_type": "code",
   "execution_count": 13,
   "id": "a487b9b4",
   "metadata": {},
   "outputs": [
    {
     "name": "stdout",
     "output_type": "stream",
     "text": [
      "Please enter the number : 4\n",
      "the sum of first 4 numbers is : 10\n",
      "the average of first 4 numbers is : 2.5\n"
     ]
    }
   ],
   "source": [
    "#program to calculate sum and average of first n natural numbers\n",
    "n = int(input(\"Please enter the number : \")) \n",
    "total = 0\n",
    "for i in range(1, n+1):\n",
    "    total = total + i\n",
    "    \n",
    "print('the sum of first {0} numbers is : {1}'.format(n, total))\n",
    "\n",
    "avg = total/n\n",
    "print('the average of first {0} numbers is : {1}'.format(n, avg))"
   ]
  },
  {
   "cell_type": "code",
   "execution_count": 14,
   "id": "2b9a4eb3",
   "metadata": {},
   "outputs": [
    {
     "name": "stdout",
     "output_type": "stream",
     "text": [
      "please enter 10 numbers : \n",
      "please enter the 1 number : 2\n",
      "please enter the 2 number : 4\n",
      "please enter the 3 number : 5\n",
      "please enter the 4 number : 6\n",
      "please enter the 5 number : 7\n",
      "please enter the 6 number : 8\n",
      "please enter the 7 number : 9\n",
      "please enter the 8 number : 1\n",
      "please enter the 9 number : 1\n",
      "please enter the 10 number : 11\n",
      "sum of positive numbers by skipping negatives is : 54.0\n"
     ]
    }
   ],
   "source": [
    "#program to calculate sum of positive numbers skipping negatives in a list of 10 numbers\n",
    "print(\"please enter 10 numbers : \")\n",
    "sum =0\n",
    "i = 0\n",
    "for i in range(1, 11):\n",
    "    num = float(input('please enter the {0} number : '.format(i)))\n",
    "    if num >0 :\n",
    "        sum = sum + num\n",
    "print('sum of positive numbers by skipping negatives is : {0}'.format(sum))"
   ]
  },
  {
   "cell_type": "code",
   "execution_count": 15,
   "id": "ef6768ff",
   "metadata": {},
   "outputs": [
    {
     "name": "stdout",
     "output_type": "stream",
     "text": [
      "Current Date =  2022-07-11\n"
     ]
    }
   ],
   "source": [
    "#program to print date\n",
    "from datetime import date\n",
    "\n",
    "today = date.today()\n",
    "print(\"Current Date = \", today)"
   ]
  },
  {
   "cell_type": "code",
   "execution_count": 16,
   "id": "72b8110f",
   "metadata": {},
   "outputs": [
    {
     "name": "stdout",
     "output_type": "stream",
     "text": [
      "please enter the number of natural numbers : 4\n",
      "the sum of first 4 natural numbers is : 10\n"
     ]
    }
   ],
   "source": [
    "#program to calculate sum of first n natural numbers\n",
    "n = int(input(\"please enter the number of natural numbers : \"))\n",
    "sum = 0\n",
    "for i in range(1, n+1):\n",
    "    sum = sum +i\n",
    "print('the sum of first {0} natural numbers is : {1}'.format(n, sum))"
   ]
  },
  {
   "cell_type": "code",
   "execution_count": 17,
   "id": "ba575f79",
   "metadata": {},
   "outputs": [
    {
     "name": "stdout",
     "output_type": "stream",
     "text": [
      "please enter the number of even numbers : 4\n",
      "the sum of first 4 even numbers is : 20\n",
      "please enter the number of odd numbers : 5\n",
      "the sum of first 5 odd numbers is : 25\n"
     ]
    }
   ],
   "source": [
    "#program to calculate sum of first n even numbers and first m odd numbers\n",
    "n = int(input(\"please enter the number of even numbers : \"))\n",
    "sum = 0\n",
    "for i in range(1, 2*n+1):\n",
    "    if i%2 ==0 :\n",
    "        sum = sum +i\n",
    "print('the sum of first {0} even numbers is : {1}'.format(n, sum))\n",
    "sum1 = 0\n",
    "m = int(input(\"please enter the number of odd numbers : \"))\n",
    "for i in range(1, 2*m+1):\n",
    "    if i%2 !=0 :\n",
    "        sum1 = sum1 +i\n",
    "print('the sum of first {0} odd numbers is : {1}'.format(m, sum1))"
   ]
  },
  {
   "cell_type": "code",
   "execution_count": 18,
   "id": "eb0d88d7",
   "metadata": {},
   "outputs": [
    {
     "name": "stdout",
     "output_type": "stream",
     "text": [
      "please enter the first number : 2\n",
      "please enter the second number : 4\n",
      "The addition of 2, 4 numers is : 6\n",
      "The subtraction of 2, 4 numers is : -2\n",
      "The multiplication of 2, 4 numers is : 8\n",
      "The division of 2, 4 numers is : 0.5\n",
      "The modulus of 2, 4 numers is : 2\n",
      "The exponential of 2, 4 numers is : 16\n"
     ]
    }
   ],
   "source": [
    "#program to operate arithmetic operations usinf function \n",
    "def addition(n1, n2) :\n",
    "    return n1+n2\n",
    "\n",
    "def subtraction(n1, n2):\n",
    "    return n1-n2\n",
    "\n",
    "def multiplication(n1, n2):\n",
    "    return n1*n2\n",
    "\n",
    "def division(n1, n2):\n",
    "    return n1/n2\n",
    "\n",
    "def modulus(n1, n2):\n",
    "    return n1%n2\n",
    "\n",
    "def exponential(n1, n2):\n",
    "    return n1**n2\n",
    "\n",
    "n1 = int(input(\"please enter the first number : \"))\n",
    "n2 = int(input(\"please enter the second number : \"))\n",
    "\n",
    "print('The addition of {0}, {1} numers is : {2}'.format(n1, n2, addition(n1, n2)))\n",
    "print('The subtraction of {0}, {1} numers is : {2}'.format(n1, n2, subtraction(n1, n2)))\n",
    "print('The multiplication of {0}, {1} numers is : {2}'.format(n1, n2, multiplication(n1, n2)))\n",
    "print('The division of {0}, {1} numers is : {2}'.format(n1, n2, division(n1, n2)))\n",
    "print('The modulus of {0}, {1} numers is : {2}'.format(n1, n2, modulus(n1, n2)))\n",
    "print('The exponential of {0}, {1} numers is : {2}'.format(n1, n2, exponential(n1, n2)))"
   ]
  },
  {
   "cell_type": "code",
   "execution_count": 19,
   "id": "69966264",
   "metadata": {},
   "outputs": [
    {
     "name": "stdout",
     "output_type": "stream",
     "text": [
      "please enter the number : 2\n",
      "the entered number have 1 digits\n"
     ]
    }
   ],
   "source": [
    "#program to calculate number of digits in a number\n",
    "\n",
    "n = int(input(\"please enter the number : \"))\n",
    "i = 0\n",
    "\n",
    "while (n>0) :\n",
    "    n = n//10\n",
    "    i = i+1\n",
    "print('the entered number have {0} digits'.format(i))\n"
   ]
  },
  {
   "cell_type": "markdown",
   "id": "e7d97578",
   "metadata": {},
   "source": [
    "# Thanks "
   ]
  }
 ],
 "metadata": {
  "kernelspec": {
   "display_name": "Python 3 (ipykernel)",
   "language": "python",
   "name": "python3"
  },
  "language_info": {
   "codemirror_mode": {
    "name": "ipython",
    "version": 3
   },
   "file_extension": ".py",
   "mimetype": "text/x-python",
   "name": "python",
   "nbconvert_exporter": "python",
   "pygments_lexer": "ipython3",
   "version": "3.9.7"
  }
 },
 "nbformat": 4,
 "nbformat_minor": 5
}
