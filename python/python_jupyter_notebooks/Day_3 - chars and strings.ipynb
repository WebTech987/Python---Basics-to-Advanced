{
 "cells": [
  {
   "cell_type": "markdown",
   "id": "c2f4a3d2",
   "metadata": {},
   "source": [
    "# Programs on characters and strings "
   ]
  },
  {
   "cell_type": "code",
   "execution_count": 1,
   "id": "48e97e82",
   "metadata": {},
   "outputs": [
    {
     "name": "stdout",
     "output_type": "stream",
     "text": [
      "please enter your input to check character : s\n",
      "Your input s is a character\n"
     ]
    }
   ],
   "source": [
    "#program to check character \n",
    "ch = input(\"please enter your input to check character : \")\n",
    "\n",
    "if (( ch >= 'a' and ch<= 'z') or (ch >= 'A' and ch <= 'Z')) :\n",
    "    print('Your input {0} is a character'.format(ch))\n",
    "else :\n",
    "    print('Your input {0} is not a character'.format(ch))"
   ]
  },
  {
   "cell_type": "code",
   "execution_count": 2,
   "id": "ed6cb5db",
   "metadata": {},
   "outputs": [
    {
     "name": "stdout",
     "output_type": "stream",
     "text": [
      "please enter the your input : 4\n",
      "Your input 4 is a digit\n"
     ]
    }
   ],
   "source": [
    "#program to check input is a character, digit or special character\n",
    "ch = input(\"please enter the your input : \")\n",
    "\n",
    "if (ch.isalpha()) :\n",
    "    print('Your input {0} is a character'.format(ch))\n",
    "elif (ch.isdigit()) :\n",
    "    print('Your input {0} is a digit'.format(ch))\n",
    "else :\n",
    "    print('Your input {0} is a special character'.format(ch))"
   ]
  },
  {
   "cell_type": "code",
   "execution_count": 3,
   "id": "3eaeb1c2",
   "metadata": {},
   "outputs": [
    {
     "name": "stdout",
     "output_type": "stream",
     "text": [
      "please enter the your character : s\n",
      "Your input s is not a digit\n"
     ]
    }
   ],
   "source": [
    "#program to check input is a digit or not\n",
    "ch = input(\"please enter the your input : \")\n",
    "\n",
    "if (ch.isdigit()) :\n",
    "    print('Your input {0} is a digit'.format(ch))\n",
    "else :\n",
    "    print('Your input {0} is not a digit'.format(ch))"
   ]
  },
  {
   "cell_type": "code",
   "execution_count": 4,
   "id": "8f80f0ba",
   "metadata": {},
   "outputs": [
    {
     "name": "stdout",
     "output_type": "stream",
     "text": [
      "please enter the your character : p\n",
      "Your input p is a lowercase character\n"
     ]
    }
   ],
   "source": [
    "#program to check a character is uppercase or lowercase\n",
    "ch = input(\"please enter the character : \")\n",
    "\n",
    "if ( ch >= 'a' and ch<= 'z') :\n",
    "    print('Your input {0} is a lowercase character'.format(ch))\n",
    "elif (ch >= 'A' and ch <= 'Z') :\n",
    "    print('Your input {0} is a uppercase character'.format(ch))\n",
    "else :\n",
    "    print('Your input {0} is not a character'.format(ch))"
   ]
  },
  {
   "cell_type": "code",
   "execution_count": 5,
   "id": "3e45d573",
   "metadata": {},
   "outputs": [
    {
     "name": "stdout",
     "output_type": "stream",
     "text": [
      "please enter the your character : l\n",
      "Your input l is a alphabet and consonant\n"
     ]
    }
   ],
   "source": [
    "#program to check character, also checks it is a vowel or consonant \n",
    "ch = input(\"please enter the your character : \")\n",
    "\n",
    "if(ch.isalpha()):\n",
    "    if(( ch =='a' or ch =='e' or ch =='i' or ch =='o' or ch =='u' or ch =='A' or ch =='E' or ch =='I' or ch =='O' or ch =='U')):\n",
    "        print('Your input {0} is alphabet and vowel'.format(ch))\n",
    "    else :\n",
    "        print('Your input {0} is a alphabet and consonant'.format(ch))"
   ]
  },
  {
   "cell_type": "code",
   "execution_count": 6,
   "id": "a481b1bb",
   "metadata": {},
   "outputs": [
    {
     "name": "stdout",
     "output_type": "stream",
     "text": [
      "please enter first string : suraj\n",
      "please enter second string : ahirwar\n",
      "The final string without space is :  surajahirwar\n",
      "The final string without space is :  suraj ahirwar\n",
      "SURAJAHIRWAR\n",
      "suraj ahirwar\n"
     ]
    }
   ],
   "source": [
    "#program to convert a string into lowercase and uppercase\n",
    "S1 = input(\"please enter first string : \")\n",
    "S2 = input(\"please enter second string : \")\n",
    "\n",
    "S3 = S1 + S2\n",
    "print('The final string without space is :  {0}'.format(S3))\n",
    "S4 = S1 + ' ' + S2\n",
    "print('The final string without space is :  {0}'.format(S4))\n",
    "\n",
    "S5 = S3.upper()\n",
    "print(S5)\n",
    "\n",
    "S6 = S4.lower()\n",
    "print(S6)\n"
   ]
  },
  {
   "cell_type": "code",
   "execution_count": 7,
   "id": "21650340",
   "metadata": {},
   "outputs": [
    {
     "name": "stdout",
     "output_type": "stream",
     "text": [
      "Please enter the Your Own String = suraj ahirwar\n",
      "{'s': 1, 'u': 1, 'r': 3, 'a': 3, 'j': 1, ' ': 1, 'h': 1, 'i': 1, 'w': 1}\n"
     ]
    }
   ],
   "source": [
    "#Python Program to Count every Characters Frequency in a String\n",
    "\n",
    "string = input(\"Please enter the Your Own String = \")\n",
    "chardict = {}\n",
    "\n",
    "for num in string:\n",
    "    keys = chardict.keys()\n",
    "    if num in keys:\n",
    "        chardict[num] += 1\n",
    "    else:\n",
    "        chardict[num] = 1\n",
    "\n",
    "print(chardict)"
   ]
  },
  {
   "cell_type": "code",
   "execution_count": 8,
   "id": "159b84aa",
   "metadata": {},
   "outputs": [
    {
     "name": "stdout",
     "output_type": "stream",
     "text": [
      "please enter the string : suraj ahirwar\n",
      "the length of input string is : 13\n",
      "please enter the charater : a\n",
      "3\n",
      "the total number of words in input string is : 2\n"
     ]
    }
   ],
   "source": [
    "#program to print occurance of a character in a string and to count number of words in the string :\n",
    "S = input(\"please enter the string : \")\n",
    "\n",
    "p = len(S)\n",
    "print('the length of input string is : {0}'.format(p))\n",
    "ch = input(\"please enter the charater : \")\n",
    "n = 0\n",
    "for i in range(len(S)):\n",
    "    if (S[i] == ch) :\n",
    "        n = n+1\n",
    "print(n)\n",
    "\n",
    "\n",
    "tw = 1\n",
    "for i in range(len(S)):\n",
    "    if (S[i] == ' ' or S[i] == '\\n' or S[i] == '\\t') :\n",
    "        tw = tw+1 \n",
    "print('the total number of words in input string is : {0}'.format(tw))\n"
   ]
  },
  {
   "cell_type": "code",
   "execution_count": 9,
   "id": "e21e65ae",
   "metadata": {},
   "outputs": [
    {
     "name": "stdout",
     "output_type": "stream",
     "text": [
      "Please Enter Your Own String : suraj ahirwar\n",
      "Total Number of Vowels in this String =  5\n",
      "Total Number of Consonants in this String =  7\n"
     ]
    }
   ],
   "source": [
    "#program to count number of vowels and consonants in a string\n",
    "str1 = input(\"Please Enter Your Own String : \")\n",
    "vowels = 0\n",
    "consonants = 0\n",
    "\n",
    "for i in range(len(str1)):\n",
    "    if ( str1[i].isalpha()) :\n",
    "        if(str1[i] == 'a' or str1[i] == 'e' or str1[i] == 'i' or str1[i] == 'o' or str1[i] == 'u' or str1[i] == 'A' or str1[i] == 'E' or str1[i] == 'I' or str1[i] == 'O' or str1[i] == 'U'):\n",
    "            vowels = vowels + 1\n",
    "        elif ( str1[i] != ' ') :\n",
    "            consonants = consonants + 1\n",
    "print(\"Total Number of Vowels in this String = \", vowels)\n",
    "print(\"Total Number of Consonants in this String = \", consonants)"
   ]
  },
  {
   "cell_type": "code",
   "execution_count": 10,
   "id": "4c2939fe",
   "metadata": {},
   "outputs": [
    {
     "name": "stdout",
     "output_type": "stream",
     "text": [
      "Please Enter Your Own String : aabbaa\n",
      "The input string is palindrome : \n"
     ]
    }
   ],
   "source": [
    "#program to check palindrome string :\n",
    "str1 = input(\"Please Enter Your Own String : \")\n",
    "str2 = \"\"\n",
    "\n",
    "for i in str1:\n",
    "    str2 = i + str2\n",
    "\n",
    "if (str1 == str2) :\n",
    "    print(\"The input string is palindrome : \")\n",
    "else:\n",
    "    print(\"The input string is not palindrome : \")\n",
    "        "
   ]
  },
  {
   "cell_type": "code",
   "execution_count": 11,
   "id": "f1dc2e54",
   "metadata": {},
   "outputs": [
    {
     "name": "stdout",
     "output_type": "stream",
     "text": [
      "please enter the string : suraj ahirwar\n",
      "the length of input string is : 13\n",
      "please enter the charater : a\n",
      "the occurance position of a is :4\n",
      "the occurance position of a is :7\n",
      "the occurance position of a is :12\n"
     ]
    }
   ],
   "source": [
    "#program to print the positions of occurance of a character\n",
    "S = input(\"please enter the string : \")\n",
    "\n",
    "p = len(S)\n",
    "print('the length of input string is : {0}'.format(p))\n",
    "ch = input(\"please enter the charater : \")\n",
    "for i in range(p):\n",
    "    if (S[i] == ch) :\n",
    "        print('the occurance position of {0} is :{1}'.format(ch, i+1))"
   ]
  },
  {
   "cell_type": "code",
   "execution_count": 12,
   "id": "eb5b7c96",
   "metadata": {},
   "outputs": [
    {
     "name": "stdout",
     "output_type": "stream",
     "text": [
      "Please enter your a String : suraj ahirwar\n",
      "Please enter a Character : a\n",
      "The Last Occurrence of  a  is Found at Position  12\n"
     ]
    }
   ],
   "source": [
    "#program to print the last occurance of a character\n",
    "\n",
    "s = input(\"Please enter your a String : \")\n",
    "ch = input(\"Please enter a Character : \")\n",
    "i = 0\n",
    "fg = -1\n",
    "\n",
    "while(i < len(s)):\n",
    "    if(s[i] == ch):\n",
    "        fg = i\n",
    "    i = i + 1\n",
    "\n",
    "if(fg == -1):\n",
    "    print(\"The Search Character is not in this string \")\n",
    "else:\n",
    "    print(\"The Last Occurrence of \", ch, \" is Found at Position \" , fg + 1)"
   ]
  },
  {
   "cell_type": "code",
   "execution_count": 13,
   "id": "e51455d8",
   "metadata": {},
   "outputs": [
    {
     "name": "stdout",
     "output_type": "stream",
     "text": [
      "please enter the string : suraj ahirwar\n",
      "The string after replacing space by underscore \n",
      "suraj_ahirwar\n"
     ]
    }
   ],
   "source": [
    "#program to remove space by underscore in a string\n",
    "S1 = input(\"please enter the string : \")\n",
    "print(\"The string after replacing space by underscore \")\n",
    "\n",
    "S2 = S1.replace(' ', '_')\n",
    "print(S2)"
   ]
  },
  {
   "cell_type": "code",
   "execution_count": 14,
   "id": "c0e1d398",
   "metadata": {},
   "outputs": [
    {
     "name": "stdout",
     "output_type": "stream",
     "text": [
      "please enter the string : suraj ahirwar\n",
      "please enter the character to replace : a\n",
      "please enter the character to replace with : o\n",
      "The string after replacing the input character \n",
      "suroj ohirwor\n"
     ]
    }
   ],
   "source": [
    "#program to replace a character with another character in a string\n",
    "\n",
    "S1 = input(\"please enter the string : \")\n",
    "ch = input(\"please enter the character to replace : \")\n",
    "nch = input(\"please enter the character to replace with : \")\n",
    "\n",
    "\n",
    "print(\"The string after replacing the input character \")\n",
    "S2 = S1.replace(ch, nch)\n",
    "print(S2)"
   ]
  },
  {
   "cell_type": "code",
   "execution_count": 1,
   "id": "8e53e8b7",
   "metadata": {},
   "outputs": [
    {
     "name": "stdout",
     "output_type": "stream",
     "text": [
      "please enter the string : suraj ahirwar\n",
      "The string after removing odd characters : \n",
      "ua hra\n"
     ]
    }
   ],
   "source": [
    "#program to remove odd characters in a string\n",
    "\n",
    "S1 = input(\"please enter the string : \")\n",
    "print(\"The string after removing odd characters : \")\n",
    "\n",
    "S2 = ''\n",
    "for i in range(1, len(S1)):\n",
    "    if (i%2 == 0):\n",
    "        S2 = S2 + S1[i-1]        \n",
    "print(S2)"
   ]
  },
  {
   "cell_type": "code",
   "execution_count": 2,
   "id": "37b775cc",
   "metadata": {},
   "outputs": [
    {
     "name": "stdout",
     "output_type": "stream",
     "text": [
      "please enter the string : suraj ahirwar\n",
      "please enter the character to remove : a\n",
      "The string after removing first occurance of the character : \n",
      "surj ahirwar\n"
     ]
    }
   ],
   "source": [
    "#program to remove the first occurance of a character in a string\n",
    "\n",
    "S1 = input(\"please enter the string : \")\n",
    "ch = input(\"please enter the character to remove : \")\n",
    "\n",
    "print(\"The string after removing first occurance of the character : \")\n",
    "\n",
    "S2 = ''\n",
    "for i in range(1, len(S1)):\n",
    "    if (S1[i]== ch):\n",
    "        S2 = S1[0:i] + S1[i + 1:len(S1)]\n",
    "        break      \n",
    "print(S2)\n"
   ]
  },
  {
   "cell_type": "code",
   "execution_count": 3,
   "id": "3df26c9a",
   "metadata": {},
   "outputs": [
    {
     "name": "stdout",
     "output_type": "stream",
     "text": [
      "please enter the string : suraj ahirwar\n",
      "please enter the character to remove : a\n",
      "The string after removing last occurance of the character : \n",
      "suraj ahirwr\n"
     ]
    }
   ],
   "source": [
    "#program to remove the last occurance of a character in a string\n",
    "\n",
    "S1 = input(\"please enter the string : \")\n",
    "ch = input(\"please enter the character to remove : \")\n",
    "\n",
    "print(\"The string after removing last occurance of the character : \")\n",
    "\n",
    "S2 = ''\n",
    "for i in range(1, len(S1)):\n",
    "    if (S1[i]== ch):\n",
    "        S2 = S1[0:i] + S1[i + 1:len(S1)]      \n",
    "print(S2)\n"
   ]
  },
  {
   "cell_type": "code",
   "execution_count": 4,
   "id": "5a1c5514",
   "metadata": {
    "scrolled": true
   },
   "outputs": [
    {
     "name": "stdout",
     "output_type": "stream",
     "text": [
      "please enter the string : suraj ahirwar\n",
      "rawriha jarus\n"
     ]
    }
   ],
   "source": [
    "#program to reverse a string\n",
    "S1 = input(\"please enter the string : \")\n",
    "S2 = ''\n",
    "\n",
    "for i in S1:\n",
    "    S2 = i + S2\n",
    "print(S2)"
   ]
  },
  {
   "cell_type": "markdown",
   "id": "642a51cd",
   "metadata": {},
   "source": [
    "# **Thanks**"
   ]
  }
 ],
 "metadata": {
  "kernelspec": {
   "display_name": "Python 3 (ipykernel)",
   "language": "python",
   "name": "python3"
  },
  "language_info": {
   "codemirror_mode": {
    "name": "ipython",
    "version": 3
   },
   "file_extension": ".py",
   "mimetype": "text/x-python",
   "name": "python",
   "nbconvert_exporter": "python",
   "pygments_lexer": "ipython3",
   "version": "3.9.7"
  }
 },
 "nbformat": 4,
 "nbformat_minor": 5
}
