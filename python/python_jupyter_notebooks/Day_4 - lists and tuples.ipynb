{
 "cells": [
  {
   "cell_type": "markdown",
   "id": "ae4cd739",
   "metadata": {},
   "source": [
    "# Programs on Lists and Tuples"
   ]
  },
  {
   "cell_type": "markdown",
   "id": "22001df0",
   "metadata": {},
   "source": [
    "### LISTS "
   ]
  },
  {
   "cell_type": "code",
   "execution_count": 3,
   "id": "eef34c3e",
   "metadata": {},
   "outputs": [
    {
     "name": "stdout",
     "output_type": "stream",
     "text": [
      "please enter the element value to add in the list :  89\n",
      "The final list is : \n",
      "[23, 34, 45, 56, 67, 78, 89]\n"
     ]
    }
   ],
   "source": [
    "#adding an item to the list \n",
    "L1=[23,34,45,56,67,78]\n",
    "V1 =  int(input(\"please enter the element value to add in the list :  \"))\n",
    "L1.append(V1)\n",
    "print(\"The final list is : \")\n",
    "print(L1)"
   ]
  },
  {
   "cell_type": "code",
   "execution_count": 5,
   "id": "a9443f5e",
   "metadata": {},
   "outputs": [
    {
     "name": "stdout",
     "output_type": "stream",
     "text": [
      "The list values and indices are : \n",
      "The index is  0 and value =  23\n",
      "The index is  1 and value =  34\n",
      "The index is  2 and value =  45\n",
      "The index is  3 and value =  56\n",
      "The index is  4 and value =  67\n",
      "The index is  5 and value =  78\n"
     ]
    }
   ],
   "source": [
    "#program to print indexes and values of a list\n",
    "L1=[23,34,45,56,67,78]\n",
    "print(\"The list values and indices are : \")\n",
    "for i in range(len(L1)) :\n",
    "    print(\"The index is \", i , \"and value = \", L1[i])"
   ]
  },
  {
   "cell_type": "code",
   "execution_count": 6,
   "id": "7b5f0037",
   "metadata": {},
   "outputs": [
    {
     "name": "stdout",
     "output_type": "stream",
     "text": [
      "[23, 34, 45, 56, 67, 78, 2, 3, 4, 5, 6, 7, 8]\n"
     ]
    }
   ],
   "source": [
    "#program to add two lists\n",
    "L1=[23,34,45,56,67,78]\n",
    "L2 = [2,3,4,5,6,7, 8]\n",
    "L3 = L1+L2\n",
    "print(L3)"
   ]
  },
  {
   "cell_type": "code",
   "execution_count": 8,
   "id": "ddcf6e0d",
   "metadata": {},
   "outputs": [
    {
     "name": "stdout",
     "output_type": "stream",
     "text": [
      "The final list is : \n",
      "[23, 34, 45, 56, 67, 78, 2, 3, 4, 5, 6, 7, 8]\n"
     ]
    }
   ],
   "source": [
    "#program to add two lists\n",
    "L1=[23,34,45,56,67,78]\n",
    "L2 = [2,3,4,5,6,7, 8]\n",
    "L3 = []\n",
    "print(\"The final list is : \") \n",
    "for i in range(len(L1)):\n",
    "    L3.append(L1[i])\n",
    "for j in range(len(L2)):\n",
    "    L3.append(L2[j])\n",
    "print(L3)\n"
   ]
  },
  {
   "cell_type": "code",
   "execution_count": 13,
   "id": "5a16c6aa",
   "metadata": {},
   "outputs": [
    {
     "name": "stdout",
     "output_type": "stream",
     "text": [
      "The sum of elements of two lists is : [4, 6, 8, 10, 12, 14]\n",
      "The subtraction of elements of two lists is : [0, 0, 0, 0, 0, 0]\n",
      "The multiplication of elements of two lists is : [4, 9, 16, 25, 36, 49]\n",
      "The division of elements of two lists is : [1.0, 1.0, 1.0, 1.0, 1.0, 1.0]\n",
      "The modulus of elements of two lists is : [0, 0, 0, 0, 0, 0]\n",
      "The exponent of elements of two lists is : [4, 27, 256, 3125, 46656, 823543]\n"
     ]
    }
   ],
   "source": [
    "#arithmetic operations on two lists having same elements\n",
    "L1 = [2,3,4,5,6,7]\n",
    "L2=[2,3,4,5,6,7]\n",
    "\n",
    "Ad = []\n",
    "Sb = []\n",
    "Ml = []\n",
    "Dn = []\n",
    "Md = []\n",
    "Ex = []\n",
    "\n",
    "\n",
    "for i in range(len(L1)):\n",
    "    Ad.append(L1[i] + L2[i])\n",
    "    Sb.append(L1[i] - L2[i])\n",
    "    Ml.append(L1[i] * L2[i])\n",
    "    Dn.append(L1[i] / L2[i])\n",
    "    Md.append(L1[i] % L2[i])\n",
    "    Ex.append(L1[i] ** L2[i])\n",
    "\n",
    "print('The sum of elements of two lists is : {0}'.format(Ad))\n",
    "print('The subtraction of elements of two lists is : {0}'.format(Sb))\n",
    "print('The multiplication of elements of two lists is : {0}'.format(Ml))\n",
    "print('The division of elements of two lists is : {0}'.format(Dn))\n",
    "print('The modulus of elements of two lists is : {0}'.format(Md))\n",
    "print('The exponent of elements of two lists is : {0}'.format(Ex))\n"
   ]
  },
  {
   "cell_type": "code",
   "execution_count": 17,
   "id": "4fbb026c",
   "metadata": {},
   "outputs": [
    {
     "name": "stdout",
     "output_type": "stream",
     "text": [
      "The sum of elements of the list is : \n",
      "50.5\n"
     ]
    }
   ],
   "source": [
    "#program to find sum of elements of a list and their average\n",
    "L1=[23,34,45,56,67,78]\n",
    "sum = 0\n",
    "print(\"The sum of elements of the list is : \") \n",
    "for i in range(len(L1)):\n",
    "    sum = sum + L1[i]\n",
    "\n",
    "avg = sum/(len(L1))\n",
    "print(avg)"
   ]
  },
  {
   "cell_type": "code",
   "execution_count": 18,
   "id": "c589f432",
   "metadata": {},
   "outputs": [
    {
     "name": "stdout",
     "output_type": "stream",
     "text": [
      "The list is empty \n"
     ]
    }
   ],
   "source": [
    "#program to check whether the list is empty or not\n",
    "L1 = []\n",
    "\n",
    "if (len(L1)==0) :\n",
    "    print(\"The list is empty \")\n",
    "else:\n",
    "    print(\"The list is not empty \")"
   ]
  },
  {
   "cell_type": "code",
   "execution_count": 21,
   "id": "1f1acec9",
   "metadata": {},
   "outputs": [
    {
     "name": "stdout",
     "output_type": "stream",
     "text": [
      "the first list and its datatye is : [23, 34, 45, 56, 67, 78]\n",
      "<class 'list'>\n",
      "the copied list and its datatye is : [23, 34, 45, 56, 67, 78]\n",
      "<class 'list'>\n"
     ]
    }
   ],
   "source": [
    "#program to copy the list\n",
    "\n",
    "L1=[23,34,45,56,67,78]\n",
    "print('the first list and its datatye is : {0}'.format(L1))\n",
    "print(type(L1))\n",
    "\n",
    "L2 = list(L1)\n",
    "\n",
    "print('the copied list and its datatye is : {0}'.format(L1))\n",
    "print(type(L2))\n"
   ]
  },
  {
   "cell_type": "code",
   "execution_count": 22,
   "id": "303b88b1",
   "metadata": {},
   "outputs": [
    {
     "name": "stdout",
     "output_type": "stream",
     "text": [
      "The number and positive elements present in the list are : [34, 56, 78],  3\n",
      "The number and negative elements present in the list are : [23, 45, 67],  3\n"
     ]
    }
   ],
   "source": [
    "#program to count and print even and odd numbers of a list\n",
    "L1=[23,34,45,56,67,78]\n",
    "L2 = []\n",
    "L3 =[]\n",
    "\n",
    "for i in range(len(L1)):\n",
    "    if(L1[i]%2 ==0):\n",
    "        L2.append(L1[i])\n",
    "    else :\n",
    "        L3.append(L1[i])\n",
    "print('The number and even elements present in the list are : {0},  {1}'.format(L2, len(L2)))\n",
    "print('The number and odd elements present in the list are : {0},  {1}'.format(L3, len(L3)))"
   ]
  },
  {
   "cell_type": "code",
   "execution_count": 27,
   "id": "1f7919e0",
   "metadata": {},
   "outputs": [
    {
     "name": "stdout",
     "output_type": "stream",
     "text": [
      "The number and positive elements present in the list are : [23, 34, 45, 56, 67, 78],  6\n",
      "The number and negative elements present in the list are : [-1, -8],  2\n"
     ]
    }
   ],
   "source": [
    "#program to count and print positive and negative numbers of a list\n",
    "L1=[23,34,45,56, 0, 67, 78, -1, -8]\n",
    "L2 = []\n",
    "L3 = []\n",
    "\n",
    "for i in range(len(L1)):\n",
    "    if(L1[i]>0):\n",
    "        L2.append(L1[i])\n",
    "    elif (L1[i] < 0):\n",
    "        L3.append(L1[i])\n",
    "print('The number and positive elements present in the list are : {0},  {1}'.format(L2, len(L2)))\n",
    "print('The number and negative elements present in the list are : {0},  {1}'.format(L3, len(L3)))"
   ]
  },
  {
   "cell_type": "code",
   "execution_count": 28,
   "id": "7b7e5e03",
   "metadata": {},
   "outputs": [
    {
     "name": "stdout",
     "output_type": "stream",
     "text": [
      "the largest element is : 78 and smallest is : -8 \n"
     ]
    }
   ],
   "source": [
    "#program to print largest and smallest elements of a list\n",
    "L1=[23,34,45,56, 0, 67, 78, -1, -8]\n",
    "print('the largest element is : {0} and smallest is : {1} '.format(max(L1), min(L1)))"
   ]
  },
  {
   "cell_type": "code",
   "execution_count": 36,
   "id": "1f6ebb65",
   "metadata": {},
   "outputs": [
    {
     "name": "stdout",
     "output_type": "stream",
     "text": [
      "please enter the number of elements for first list : 5\n",
      "please enter 1 the element : 2\n",
      "please enter 2 the element : 8\n",
      "please enter 3 the element : 3\n",
      "please enter 4 the element : -5\n",
      "please enter 5 the element : -9\n",
      "[2, 8, 3, -5, -9]\n"
     ]
    }
   ],
   "source": [
    "#program to import a list\n",
    "L1 = []\n",
    "n = int(input(\"please enter the number of elements for first list : \"))\n",
    "\n",
    "for i in range(1, n+1):\n",
    "    V = int(input(\"please enter %d the element : \" %i))\n",
    "    L1.append(V)\n",
    "print(L1)"
   ]
  },
  {
   "cell_type": "code",
   "execution_count": 47,
   "id": "bd2fc97a",
   "metadata": {},
   "outputs": [
    {
     "name": "stdout",
     "output_type": "stream",
     "text": [
      "please enter the number of elements for first list : 4\n",
      "please enter 1 the element : 0\n",
      "please enter 2 the element : 1\n",
      "please enter 3 the element : 3\n",
      "please enter 4 the element : 4\n",
      "entered list is : [0, 1, 3, 4]\n",
      "the multiplication of elements of the list is : 0\n"
     ]
    }
   ],
   "source": [
    "#### program to multiply elements of a list \n",
    "L1 = []\n",
    "n = int(input(\"please enter the number of elements for first list : \"))\n",
    "\n",
    "for i in range(1, n+1):\n",
    "    V = int(input(\"please enter %d the element : \" %i))\n",
    "    L1.append(V)\n",
    "    \n",
    "print('entered list is : {0}'.format(L1))\n",
    "\n",
    "if (len(L1)>0) :\n",
    "    mul = 1\n",
    "    for i in range(len(L1)):\n",
    "        mul = mul*(L1[i])\n",
    "    print('the multiplication of elements of the list is : {0}'.format(mul))"
   ]
  },
  {
   "cell_type": "code",
   "execution_count": 48,
   "id": "f4dc483f",
   "metadata": {},
   "outputs": [
    {
     "name": "stdout",
     "output_type": "stream",
     "text": [
      "please enter the number of elements for first list : 3\n",
      "please enter 1 the element : 4\n",
      "please enter 2 the element : 3\n",
      "please enter 3 the element : 2\n",
      "entered list is : [4, 3, 2]\n",
      "entered list elements are : \n",
      "4\n",
      "3\n",
      "2\n"
     ]
    }
   ],
   "source": [
    "#program to print list elements\n",
    "L1 = []\n",
    "n = int(input(\"please enter the number of elements for first list : \"))\n",
    "\n",
    "for i in range(1, n+1):\n",
    "    V = int(input(\"please enter %d the element : \" %i))\n",
    "    L1.append(V)\n",
    "    \n",
    "print('entered list is : {0}'.format(L1))\n",
    "\n",
    "print(\"entered list elements are : \")\n",
    "for i in range(len(L1)):\n",
    "        print(L1[i])"
   ]
  },
  {
   "cell_type": "code",
   "execution_count": 58,
   "id": "7d41f1e7",
   "metadata": {},
   "outputs": [
    {
     "name": "stdout",
     "output_type": "stream",
     "text": [
      "please enter the number of elements for first list : 3\n",
      "please enter 1 the element : 7\n",
      "please enter 2 the element : 6\n",
      "please enter 3 the element : 5\n",
      "entered list is : [7, 6, 5]\n",
      "reverse list of entered list is : \n",
      "[5, 6, 7]\n"
     ]
    }
   ],
   "source": [
    "#program to print reverse list \n",
    "L1 = []\n",
    "n = int(input(\"please enter the number of elements for first list : \"))\n",
    "\n",
    "for i in range(1, n+1):\n",
    "    V = int(input(\"please enter %d the element : \" %i))\n",
    "    L1.append(V)\n",
    "    \n",
    "print('entered list is : {0}'.format(L1))\n",
    "\n",
    "L1.reverse()\n",
    "\n",
    "print(\"reverse list of entered list is : \")\n",
    "print(L1)"
   ]
  },
  {
   "cell_type": "code",
   "execution_count": 61,
   "id": "63a86a89",
   "metadata": {},
   "outputs": [
    {
     "name": "stdout",
     "output_type": "stream",
     "text": [
      "please enter the number of elements for first list : 5\n",
      "please enter 1 the element : 7\n",
      "please enter 2 the element : 8\n",
      "please enter 3 the element : 6\n",
      "please enter 4 the element : 7\n",
      "please enter 5 the element : 8\n",
      "entered list is : [7, 8, 6, 7, 8]\n",
      "list after removing duplicates is : \n",
      "[8, 6, 7]\n"
     ]
    }
   ],
   "source": [
    "#program to remove duplicates in a list\n",
    "L1 = []\n",
    "n = int(input(\"please enter the number of elements for first list : \"))\n",
    "\n",
    "for i in range(1, n+1):\n",
    "    V = int(input(\"please enter %d the element : \" %i))\n",
    "    L1.append(V)\n",
    "print('entered list is : {0}'.format(L1))\n",
    "\n",
    "print(\"list after removing duplicates is : \")\n",
    "L2 = set(L1)\n",
    "L21 = list(L2)\n",
    "\n",
    "print(list(L21))"
   ]
  },
  {
   "cell_type": "code",
   "execution_count": 65,
   "id": "f8835b31",
   "metadata": {},
   "outputs": [
    {
     "name": "stdout",
     "output_type": "stream",
     "text": [
      "please enter the number of elements for first list : 5\n",
      "please enter 1 the element : 7\n",
      "please enter 2 the element : 6\n",
      "please enter 3 the element : 8\n",
      "please enter 4 the element : 9\n",
      "please enter 5 the element : 4\n",
      "entered list is : [7, 6, 8, 9, 4]\n",
      "list in ascending order is : [4, 6, 7, 8, 9]\n",
      "[4, 6, 7, 8, 9]\n",
      "the second largest element is : \n",
      "8\n",
      "list in decending order is : [9, 8, 7, 6, 4]\n",
      "[9, 8, 7, 6, 4]\n"
     ]
    }
   ],
   "source": [
    "#program to print list in ascending decending order and finding second largest element in the list \n",
    "L1 = []\n",
    "n = int(input(\"please enter the number of elements for first list : \"))\n",
    "\n",
    "for i in range(1, n+1):\n",
    "    V = int(input(\"please enter %d the element : \" %i))\n",
    "    L1.append(V)\n",
    "print('entered list is : {0}'.format(L1))\n",
    "\n",
    "L1.sort()\n",
    "\n",
    "print('list in ascending order is : {0}'.format(L1))\n",
    "\n",
    "print(L1)\n",
    "print(\"the second largest element is : \")\n",
    "\n",
    "print(L1[n-2])\n",
    "\n",
    "L1.reverse()\n",
    "print('list in decending order is : {0}'.format(L1))\n",
    "\n",
    "print(L1)"
   ]
  },
  {
   "cell_type": "code",
   "execution_count": 66,
   "id": "8c7053cf",
   "metadata": {},
   "outputs": [
    {
     "name": "stdout",
     "output_type": "stream",
     "text": [
      "please enter the number of elements for first list : 4\n",
      "please enter 1 the element : 5\n",
      "please enter 2 the element : 6\n",
      "please enter 3 the element : 3\n",
      "please enter 4 the element : 7\n",
      "entered list is : [5, 6, 3, 7]\n",
      "Enter Position to Left Rotate List Items = 3\n",
      "The final list after rotation is : \n",
      "[7, 5, 6, 3]\n"
     ]
    }
   ],
   "source": [
    "#Program to Rotate a list in Left by n\n",
    "L1 = []\n",
    "n = int(input(\"please enter the number of elements for first list : \"))\n",
    "\n",
    "for i in range(1, n+1):\n",
    "    V = int(input(\"please enter %d the element : \" %i))\n",
    "    L1.append(V)\n",
    "print('entered list is : {0}'.format(L1))\n",
    "\n",
    "n = int(input(\"Enter Position to Left Rotate List Items = \"))\n",
    "\n",
    "\n",
    "L2 = L1[n:] + L1[:n]\n",
    "\n",
    "print(\"The final list after rotation is : \")\n",
    "print(L2)"
   ]
  },
  {
   "cell_type": "code",
   "execution_count": 68,
   "id": "58fb9900",
   "metadata": {},
   "outputs": [
    {
     "name": "stdout",
     "output_type": "stream",
     "text": [
      "please enter the number of elements for first list : 5\n",
      "please enter 1 the element : 9\n",
      "please enter 2 the element : 7\n",
      "please enter 3 the element : 8\n",
      "please enter 4 the element : 4\n",
      "please enter 5 the element : 7\n",
      "entered list is : [9, 7, 8, 4, 7]\n",
      "Enter Position to Left Rotate List Items = 2\n",
      "The final list after rotation is : \n",
      "[4, 7, 9, 7, 8]\n"
     ]
    }
   ],
   "source": [
    "#Program to Rotate a list in right by n\n",
    "L1 = []\n",
    "n = int(input(\"please enter the number of elements for first list : \"))\n",
    "\n",
    "for i in range(1, n+1):\n",
    "    V = int(input(\"please enter %d the element : \" %i))\n",
    "    L1.append(V)\n",
    "print('entered list is : {0}'.format(L1))\n",
    "\n",
    "n = int(input(\"Enter Position to Left Rotate List Items = \"))\n",
    "\n",
    "L2 = L1[-n:] + L1[:-n]\n",
    "\n",
    "print(\"The final list after rotation is : \")\n",
    "print(L2)"
   ]
  },
  {
   "cell_type": "markdown",
   "id": "5fe943c8",
   "metadata": {},
   "source": [
    "### Tuples "
   ]
  },
  {
   "cell_type": "code",
   "execution_count": 10,
   "id": "39810036",
   "metadata": {},
   "outputs": [
    {
     "name": "stdout",
     "output_type": "stream",
     "text": [
      "please enter the number of elements for a tuple : 3\n",
      "please enter the 1 element : 4\n",
      "please enter the 2 element : 5\n",
      "please enter the 3 element : 6\n",
      "the tuple entered is :   (4, 5, 6)\n"
     ]
    }
   ],
   "source": [
    "#program to add an item to a tuple\n",
    "\n",
    "T1 = ()\n",
    "n = int(input(\"please enter the number of elements for a tuple : \"))\n",
    "\n",
    "for i in range(1, n+1) :\n",
    "    V = int(input(\"please enter the %d element : \" %i))\n",
    "    T1 = T1 + (V,)\n",
    "print(\"the tuple entered is :  \", T1)"
   ]
  },
  {
   "cell_type": "code",
   "execution_count": 12,
   "id": "4ccec65e",
   "metadata": {},
   "outputs": [
    {
     "name": "stdout",
     "output_type": "stream",
     "text": [
      "integer tuple   :  (10, 12, 14, 15, 16)\n",
      "float tuple     :  (10.2, 23.56, 21.76)\n",
      "string tuple    :  ('you', 'are', 'best')\n",
      "mixed tuple     :  (66, 40.34, 'laptop', 77)\n",
      "boolean tuple   :  (True, False, False, True)\n",
      "all_mixed tuple :  (79, False, 55.5, 'string')\n"
     ]
    }
   ],
   "source": [
    "#program to print different types of tuples\n",
    "T1 = (10,12,14,15,16)\n",
    "T2 = (10.2, 23.56, 21.76)\n",
    "T3 = ('you', 'are', 'best')\n",
    "T4 = (66, 40.34, 'laptop', 77)\n",
    "T5 = (True, False, False, True)\n",
    "T6 = (79, False, 55.5, 'string')\n",
    "print(\"integer tuple   : \", T1)\n",
    "print(\"float tuple     : \", T2)\n",
    "print(\"string tuple    : \", T3)\n",
    "print(\"mixed tuple     : \", T4)\n",
    "print(\"boolean tuple   : \", T5)\n",
    "print(\"all_mixed tuple : \", T6)"
   ]
  },
  {
   "cell_type": "code",
   "execution_count": 14,
   "id": "a03bdb6b",
   "metadata": {},
   "outputs": [
    {
     "name": "stdout",
     "output_type": "stream",
     "text": [
      "(2, 41, 34, 87, 981, 957, 14)\n",
      "Tuple Items are = (2, 41, 34, 87, 981, 957, 14)\n",
      "Tuple Items are = (2, 41, 34, 87, 981, 957, 14)\n"
     ]
    },
    {
     "ename": "TypeError",
     "evalue": "not all arguments converted during string formatting",
     "output_type": "error",
     "traceback": [
      "\u001b[1;31m---------------------------------------------------------------------------\u001b[0m",
      "\u001b[1;31mTypeError\u001b[0m                                 Traceback (most recent call last)",
      "\u001b[1;32mC:\\Users\\SURAJA~1\\AppData\\Local\\Temp/ipykernel_21388/2319942138.py\u001b[0m in \u001b[0;36m<module>\u001b[1;34m\u001b[0m\n\u001b[0;32m      8\u001b[0m \u001b[1;33m\u001b[0m\u001b[0m\n\u001b[0;32m      9\u001b[0m \u001b[0mprint\u001b[0m\u001b[1;33m(\u001b[0m\u001b[1;34m\"Tuple Items are = %s\"\u001b[0m \u001b[1;33m%\u001b[0m\u001b[1;33m(\u001b[0m\u001b[0mT1\u001b[0m\u001b[1;33m,\u001b[0m\u001b[1;33m)\u001b[0m\u001b[1;33m)\u001b[0m\u001b[1;33m\u001b[0m\u001b[1;33m\u001b[0m\u001b[0m\n\u001b[1;32m---> 10\u001b[1;33m \u001b[0mprint\u001b[0m\u001b[1;33m(\u001b[0m\u001b[1;34m\"Tuple Items are = %s\"\u001b[0m \u001b[1;33m%\u001b[0m\u001b[1;33m(\u001b[0m\u001b[0mT1\u001b[0m\u001b[1;33m)\u001b[0m\u001b[1;33m)\u001b[0m\u001b[1;33m\u001b[0m\u001b[1;33m\u001b[0m\u001b[0m\n\u001b[0m",
      "\u001b[1;31mTypeError\u001b[0m: not all arguments converted during string formatting"
     ]
    }
   ],
   "source": [
    "#program to print tuples in string format\n",
    "\n",
    "T1 = (2, 41, 34, 87, 981, 957, 14)\n",
    "\n",
    "print(T1)\n",
    "\n",
    "print(\"Tuple Items are = {0}\".format(T1))\n",
    "\n",
    "print(\"Tuple Items are = %s\" %(T1,))\n",
    "print(\"Tuple Items are = %s\" %(T1))"
   ]
  },
  {
   "cell_type": "code",
   "execution_count": 16,
   "id": "b325a46f",
   "metadata": {},
   "outputs": [
    {
     "name": "stdout",
     "output_type": "stream",
     "text": [
      "please enter the number of elements for a tuple : 6\n",
      "please enter the 1 element : 8\n",
      "please enter the 2 element : 9\n",
      "please enter the 3 element : 5\n",
      "please enter the 4 element : 6\n",
      "please enter the 5 element : 7\n",
      "please enter the 6 element : 3\n",
      "the tuple entered is :   (8, 9, 5, 6, 7, 3)\n",
      "please insert the number place to remove : 3\n",
      "tuple after removing the 3 item :  (8, 9, 5, 7, 3)\n"
     ]
    }
   ],
   "source": [
    "#program to remove an item from tuple\n",
    "\n",
    "T1 = ()\n",
    "n = int(input(\"please enter the number of elements for a tuple : \"))\n",
    "\n",
    "for i in range(1, n+1) :\n",
    "    V = int(input(\"please enter the %d element : \" %i))\n",
    "    T1 = T1 + (V,)\n",
    "print(\"the tuple entered is :  \", T1)\n",
    "\n",
    "n1 = int(input(\"please insert the number place to remove : \"))\n",
    "\n",
    "L1 = list(T1)\n",
    "L1.remove(L1[n1])\n",
    "\n",
    "T1 = tuple(L1)\n",
    "\n",
    "print(\"tuple after removing the %d item : \" %n1, T1)"
   ]
  },
  {
   "cell_type": "code",
   "execution_count": 2,
   "id": "03adc80a",
   "metadata": {},
   "outputs": [
    {
     "name": "stdout",
     "output_type": "stream",
     "text": [
      "please enter the number of elements for a tuple : 6\n",
      "please enter the 1 element : 9\n",
      "please enter the 2 element : 8\n",
      "please enter the 3 element : 7\n",
      "please enter the 4 element : 6\n",
      "please enter the 5 element : 5\n",
      "please enter the 6 element : 4\n",
      "the tuple entered is :   (9, 8, 7, 6, 5, 4)\n",
      "please insert starting number place to slice : 1\n",
      "please insert ending number place to slice : 6\n",
      "Tuple Items from 1 to 6 = : (9, 8, 7, 6, 5, 4)\n"
     ]
    }
   ],
   "source": [
    "#program to slice an tuple \n",
    "T1 = ()\n",
    "n = int(input(\"please enter the number of elements for a tuple : \"))\n",
    "\n",
    "for i in range(1, n+1) :\n",
    "    V = int(input(\"please enter the %d element : \" %i))\n",
    "    T1 = T1 + (V,)\n",
    "print(\"the tuple entered is :  \", T1)\n",
    "\n",
    "n1 = int(input(\"please insert starting number place to slice : \"))\n",
    "n2 = int(input(\"please insert ending number place to slice : \"))\n",
    "\n",
    "\n",
    "if (n1==1) :\n",
    "    if(n2 == len(T1)) :\n",
    "        sl4 = T1[:]\n",
    "        print(\"Tuple Items from %d to %d = :\" %(n1, n2), sl4)  \n",
    "    else :\n",
    "        sl3 = T1[:n2]\n",
    "        print(\"Tuple Items from %d to %d = :\" %(n1, n2), sl1)\n",
    "else :\n",
    "    if(n2 == len(T1)) :\n",
    "        sl2 = T1[n1:]\n",
    "        print(\"Tuple Items from %d to %d = :\" %(n1, n2), sl2)\n",
    "    else:\n",
    "        sl1 = T1[n1:n2]\n",
    "        print(\"Tuple Items from %d to %d = :\" %(n1, n2), sl1)"
   ]
  },
  {
   "cell_type": "code",
   "execution_count": 1,
   "id": "175eb3a4",
   "metadata": {},
   "outputs": [
    {
     "name": "stdout",
     "output_type": "stream",
     "text": [
      "please enter the name, surname , age , gender, salary respectively : \n",
      "  : suraj\n",
      "  : ahirwar\n",
      "  : 20\n",
      "  : M\n",
      "  : 150000\n",
      "the tuple entered is :   ('suraj', 'ahirwar', '20', 'M', '150000')\n",
      "suraj\n",
      "ahirwar\n",
      "20\n",
      "M\n",
      "150000\n"
     ]
    }
   ],
   "source": [
    "#program to unpack a tuple \n",
    "\n",
    "T1 = ()\n",
    "print(\"please enter the name, surname , age , gender, salary respectively : \")\n",
    "\n",
    "for i in range(1, 6) :\n",
    "    V = input(\" please enter the value : \")\n",
    "    T1 = T1 + (V,)\n",
    "print(\"The entered items are :  \", T1)\n",
    "\n",
    "\n",
    "print(\"after unpacking the results are : \")\n",
    "name, surname , age , gender, salary = T1\n",
    "print(name)\n",
    "print(surname)\n",
    "print(age)\n",
    "print(gender)\n",
    "print(salary)"
   ]
  },
  {
   "cell_type": "code",
   "execution_count": 7,
   "id": "2385af18",
   "metadata": {},
   "outputs": [
    {
     "name": "stdout",
     "output_type": "stream",
     "text": [
      "please enter the number of elements for a tuple : 4\n",
      "please enter the 1 element : 3\n",
      "please enter the 2 element : 4\n",
      "please enter the 3 element : 5\n",
      "please enter the 4 element : 6\n",
      "the tuple entered is :   (3, 4, 5, 6)\n",
      "please enter an element to check existence : 4\n",
      "True\n"
     ]
    }
   ],
   "source": [
    "#program to check existance of an input in tuple\n",
    "T1 = ()\n",
    "n = int(input(\"please enter the number of elements for a tuple : \"))\n",
    "\n",
    "for i in range(1, n+1) :\n",
    "    V = int(input(\"please enter the %d element : \" %i))\n",
    "    T1 = T1 + (V,)\n",
    "print(\"the tuple entered is :  \", T1)\n",
    "\n",
    "n1 = int(input(\"please enter an element to check existence : \"))\n",
    "\n",
    "n2 = n1 in T1\n",
    "\n",
    "print(n2)"
   ]
  },
  {
   "cell_type": "code",
   "execution_count": 13,
   "id": "4a1d2784",
   "metadata": {},
   "outputs": [
    {
     "name": "stdout",
     "output_type": "stream",
     "text": [
      "please enter the number of elements for a tuple : 5\n",
      "please enter the 1 element : 33\n",
      "please enter the 2 element : 66\n",
      "please enter the 3 element : 88\n",
      "please enter the 4 element : 32\n",
      "please enter the 5 element : 65\n",
      "the tuple entered is :   (33, 66, 88, 32, 65)\n",
      "The smallest element in the tuple is : 32\n",
      "The largest element in the tuple is : 88\n",
      "The smallest element in the tuple is :  32\n",
      "The largest element in the tuple is :  88\n"
     ]
    }
   ],
   "source": [
    "#program to print smallest and largest elements in a tuple\n",
    "T1 = ()\n",
    "n = int(input(\"please enter the number of elements for a tuple : \"))\n",
    "\n",
    "for i in range(1, n+1) :\n",
    "    V = int(input(\"please enter the %d element : \" %i))\n",
    "    T1 = T1 + (V,)\n",
    "print(\"the tuple entered is :  \", T1)\n",
    "\n",
    "print(\"The smallest element in the tuple is : \",min(T1))\n",
    "print(\"The largest element in the tuple is : \",max(T1))\n",
    "\n",
    "#or\n",
    "\n",
    "L1 = list(T1)\n",
    "L1.sort()\n",
    "\n",
    "print('The smallest element in the tuple is : {0}'.format(L1[0]))\n",
    "print('The largest element in the tuple is : {0}'.format(L1[n-1]))\n"
   ]
  },
  {
   "cell_type": "code",
   "execution_count": 16,
   "id": "2cf60f31",
   "metadata": {},
   "outputs": [
    {
     "name": "stdout",
     "output_type": "stream",
     "text": [
      "please enter the number of elements for a tuple : 4\n",
      "please enter the 1 element : 2\n",
      "please enter the 2 element : 4\n",
      "please enter the 3 element : 6\n",
      "please enter the 4 element : 8\n",
      "the tuple entered is :   (2, 4, 6, 8)\n",
      "sum of even elements is : 20\n",
      "sum of odd elements is : 0\n"
     ]
    }
   ],
   "source": [
    "#program to print count and sum of even, odd elements of a tuple\n",
    "\n",
    "T1 = ()\n",
    "n = int(input(\"please enter the number of elements for a tuple : \"))\n",
    "\n",
    "for i in range(1, n+1) :\n",
    "    V = int(input(\"please enter the %d element : \" %i))\n",
    "    T1 = T1 + (V,)\n",
    "print(\"the tuple entered is :  \", T1)\n",
    "E = O = 0\n",
    "Esum = 0\n",
    "Osum = 0\n",
    "for i in range(n) :\n",
    "    if (T1[i]%2 ==0):\n",
    "        Esum = Esum  + T1[i]\n",
    "    else:\n",
    "        Osum = Osum  + T1[i]\n",
    "print('sum of even elements is : {0}'.format(Esum))\n",
    "print('sum of odd elements is : {0}'.format(Osum))\n",
    "print('total count of even elements is : {0}'.format(E))\n",
    "print('total count of odd elements is : {0}'.format(O))"
   ]
  },
  {
   "cell_type": "code",
   "execution_count": 17,
   "id": "d0aab2d6",
   "metadata": {},
   "outputs": [
    {
     "name": "stdout",
     "output_type": "stream",
     "text": [
      "please enter the number of elements for a tuple : 4\n",
      "please enter the 1 element : 2\n",
      "please enter the 2 element : 3\n",
      "please enter the 3 element : 4\n",
      "please enter the 4 element : 5\n",
      "the tuple entered is :   (2, 3, 4, 5)\n",
      "the tuple after reverssing is :   (5, 4, 3, 2)\n"
     ]
    }
   ],
   "source": [
    "#program to reverse a tuple\n",
    "T1 = ()\n",
    "n = int(input(\"please enter the number of elements for a tuple : \"))\n",
    "\n",
    "for i in range(1, n+1) :\n",
    "    V = input(\"please enter the %d element : \" %i)\n",
    "    T1 = T1 + (V,)\n",
    "print(\"the tuple entered is :  \", T1)\n",
    "\n",
    "T2 = T1[::-1]\n",
    "print(\"the tuple after reverssing is :  \", T2)"
   ]
  },
  {
   "cell_type": "code",
   "execution_count": 25,
   "id": "fd12a2e1",
   "metadata": {},
   "outputs": [
    {
     "name": "stdout",
     "output_type": "stream",
     "text": [
      "please enter the number of elements for a tuple : 4\n",
      "please enter the 1 element : 6\n",
      "please enter the 2 element : -8\n",
      "please enter the 3 element : 9\n",
      "please enter the 4 element : 10\n",
      "the tuple entered is :   (6.0, -8.0, 9.0, 10.0)\n",
      "sum of positive elements is : 25.0\n",
      "sum of negative elements is : -8.0\n",
      "total count of positive elements is : 3\n",
      "total count of negative elements is : 1\n"
     ]
    }
   ],
   "source": [
    "#program to print count and sum of even, odd elements of a tuple\n",
    "\n",
    "T1 = ()\n",
    "n = int(input(\"please enter the number of elements for a tuple : \"))\n",
    "\n",
    "for i in range(1, n+1) :\n",
    "    V = float(input(\"please enter the %d element : \" %i))\n",
    "    T1 = T1 + (V,)\n",
    "print(\"the tuple entered is :  \", T1)\n",
    "\n",
    "P =  N  = Z = 0\n",
    "Psum = Nsum = 0\n",
    "\n",
    "for i in range(n) :\n",
    "    if ( T1[i] > 0 ):\n",
    "        P = P + 1\n",
    "        Psum = Psum  + T1[i]\n",
    "    elif ( T1[i] < 0) :\n",
    "        N = N + 1\n",
    "        Nsum = Nsum  + T1[i]\n",
    "    else :\n",
    "         Z = Z+1\n",
    "\n",
    "print('sum of positive elements is : {0}'.format(Psum))\n",
    "print('sum of negative elements is : {0}'.format(Nsum))\n",
    "print('total count of positive elements is : {0}'.format(P))\n",
    "print('total count of negative elements is : {0}'.format(N))"
   ]
  },
  {
   "cell_type": "markdown",
   "id": "824c754c",
   "metadata": {},
   "source": [
    "# Thanks"
   ]
  }
 ],
 "metadata": {
  "kernelspec": {
   "display_name": "Python 3 (ipykernel)",
   "language": "python",
   "name": "python3"
  },
  "language_info": {
   "codemirror_mode": {
    "name": "ipython",
    "version": 3
   },
   "file_extension": ".py",
   "mimetype": "text/x-python",
   "name": "python",
   "nbconvert_exporter": "python",
   "pygments_lexer": "ipython3",
   "version": "3.9.7"
  }
 },
 "nbformat": 4,
 "nbformat_minor": 5
}
