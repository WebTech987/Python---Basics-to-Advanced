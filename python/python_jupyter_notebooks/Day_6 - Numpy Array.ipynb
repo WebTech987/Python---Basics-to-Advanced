{
 "cells": [
  {
   "cell_type": "markdown",
   "id": "21e4fb0c",
   "metadata": {},
   "source": [
    "# NUMPY ARRAY"
   ]
  },
  {
   "cell_type": "markdown",
   "id": "52072424",
   "metadata": {},
   "source": [
    "**INTRODUCTION TO NUMPY ARRAY**"
   ]
  },
  {
   "cell_type": "code",
   "execution_count": 1,
   "id": "924177eb",
   "metadata": {},
   "outputs": [],
   "source": [
    "import numpy as np"
   ]
  },
  {
   "cell_type": "code",
   "execution_count": 2,
   "id": "bb1621e6",
   "metadata": {},
   "outputs": [],
   "source": [
    "import sklearn\n"
   ]
  },
  {
   "cell_type": "markdown",
   "id": "cf35f127",
   "metadata": {},
   "source": [
    "**1-D ARRAY**"
   ]
  },
  {
   "cell_type": "code",
   "execution_count": 3,
   "id": "cab97764",
   "metadata": {},
   "outputs": [],
   "source": [
    "A = np.array([12, 5, 43, 22, 10]  , np.int64)"
   ]
  },
  {
   "cell_type": "code",
   "execution_count": 4,
   "id": "c0f391d5",
   "metadata": {},
   "outputs": [
    {
     "data": {
      "text/plain": [
       "array([12,  5, 43, 22, 10], dtype=int64)"
      ]
     },
     "execution_count": 4,
     "metadata": {},
     "output_type": "execute_result"
    }
   ],
   "source": [
    "A"
   ]
  },
  {
   "cell_type": "code",
   "execution_count": 5,
   "id": "3b9211bc",
   "metadata": {},
   "outputs": [
    {
     "data": {
      "text/plain": [
       "12"
      ]
     },
     "execution_count": 5,
     "metadata": {},
     "output_type": "execute_result"
    }
   ],
   "source": [
    "A[0]"
   ]
  },
  {
   "cell_type": "markdown",
   "id": "9ec0d053",
   "metadata": {},
   "source": [
    "**2-D array**"
   ]
  },
  {
   "cell_type": "code",
   "execution_count": 6,
   "id": "cc1d8e60",
   "metadata": {},
   "outputs": [],
   "source": [
    "A1 = np.array([[10, 21, 34, 56, 89]], np.int64)"
   ]
  },
  {
   "cell_type": "code",
   "execution_count": 7,
   "id": "1ea49c60",
   "metadata": {},
   "outputs": [
    {
     "data": {
      "text/plain": [
       "10"
      ]
     },
     "execution_count": 7,
     "metadata": {},
     "output_type": "execute_result"
    }
   ],
   "source": [
    "A1[0][0]"
   ]
  },
  {
   "cell_type": "code",
   "execution_count": 8,
   "id": "19439a3e",
   "metadata": {},
   "outputs": [
    {
     "data": {
      "text/plain": [
       "array([10, 21, 34, 56, 89], dtype=int64)"
      ]
     },
     "execution_count": 8,
     "metadata": {},
     "output_type": "execute_result"
    }
   ],
   "source": [
    "A1[0]"
   ]
  },
  {
   "cell_type": "code",
   "execution_count": null,
   "id": "e9d1a9a1",
   "metadata": {},
   "outputs": [],
   "source": []
  },
  {
   "cell_type": "code",
   "execution_count": 9,
   "id": "e7dc6cce",
   "metadata": {},
   "outputs": [
    {
     "data": {
      "text/plain": [
       "(1, 5)"
      ]
     },
     "execution_count": 9,
     "metadata": {},
     "output_type": "execute_result"
    }
   ],
   "source": [
    "A1.shape\n"
   ]
  },
  {
   "cell_type": "code",
   "execution_count": 10,
   "id": "c9ade577",
   "metadata": {},
   "outputs": [
    {
     "data": {
      "text/plain": [
       "dtype('int64')"
      ]
     },
     "execution_count": 10,
     "metadata": {},
     "output_type": "execute_result"
    }
   ],
   "source": [
    "A1.dtype"
   ]
  },
  {
   "cell_type": "markdown",
   "id": "9c44e398",
   "metadata": {},
   "source": [
    "**ARRAY CREATION** \n",
    "*https://numpy.org/doc/stable/user/basics.creation.html*"
   ]
  },
  {
   "cell_type": "markdown",
   "id": "a13fe8b9",
   "metadata": {},
   "source": [
    "**Conversion from other Python structures**"
   ]
  },
  {
   "cell_type": "code",
   "execution_count": 11,
   "id": "24099fa8",
   "metadata": {},
   "outputs": [],
   "source": [
    "listA1 = np.array([[12,10,21], [24,43, 56], [3, 6, 4]])"
   ]
  },
  {
   "cell_type": "code",
   "execution_count": 12,
   "id": "c57cb357",
   "metadata": {},
   "outputs": [
    {
     "data": {
      "text/plain": [
       "array([[12, 10, 21],\n",
       "       [24, 43, 56],\n",
       "       [ 3,  6,  4]])"
      ]
     },
     "execution_count": 12,
     "metadata": {},
     "output_type": "execute_result"
    }
   ],
   "source": [
    "listA1"
   ]
  },
  {
   "cell_type": "code",
   "execution_count": 13,
   "id": "4cee2e35",
   "metadata": {},
   "outputs": [
    {
     "data": {
      "text/plain": [
       "(3, 3)"
      ]
     },
     "execution_count": 13,
     "metadata": {},
     "output_type": "execute_result"
    }
   ],
   "source": [
    "listA1.shape"
   ]
  },
  {
   "cell_type": "code",
   "execution_count": 14,
   "id": "c7087ea5",
   "metadata": {},
   "outputs": [
    {
     "data": {
      "text/plain": [
       "9"
      ]
     },
     "execution_count": 14,
     "metadata": {},
     "output_type": "execute_result"
    }
   ],
   "source": [
    "listA1.size\n"
   ]
  },
  {
   "cell_type": "code",
   "execution_count": 15,
   "id": "9c890c45",
   "metadata": {},
   "outputs": [
    {
     "data": {
      "text/plain": [
       "dtype('int32')"
      ]
     },
     "execution_count": 15,
     "metadata": {},
     "output_type": "execute_result"
    }
   ],
   "source": [
    "listA1.dtype"
   ]
  },
  {
   "cell_type": "code",
   "execution_count": 16,
   "id": "e87fed79",
   "metadata": {},
   "outputs": [],
   "source": [
    "zeros = np.zeros((2, 5))"
   ]
  },
  {
   "cell_type": "code",
   "execution_count": 17,
   "id": "bea695df",
   "metadata": {},
   "outputs": [
    {
     "data": {
      "text/plain": [
       "array([[0., 0., 0., 0., 0.],\n",
       "       [0., 0., 0., 0., 0.]])"
      ]
     },
     "execution_count": 17,
     "metadata": {},
     "output_type": "execute_result"
    }
   ],
   "source": [
    "zeros"
   ]
  },
  {
   "cell_type": "code",
   "execution_count": 18,
   "id": "1343521f",
   "metadata": {},
   "outputs": [
    {
     "data": {
      "text/plain": [
       "((2, 5), 10)"
      ]
     },
     "execution_count": 18,
     "metadata": {},
     "output_type": "execute_result"
    }
   ],
   "source": [
    "zeros.shape, zeros.size\n"
   ]
  },
  {
   "cell_type": "code",
   "execution_count": 19,
   "id": "0799a44d",
   "metadata": {},
   "outputs": [],
   "source": [
    "range = np.arange(12)"
   ]
  },
  {
   "cell_type": "code",
   "execution_count": 20,
   "id": "caa2aef2",
   "metadata": {},
   "outputs": [
    {
     "data": {
      "text/plain": [
       "array([ 0,  1,  2,  3,  4,  5,  6,  7,  8,  9, 10, 11])"
      ]
     },
     "execution_count": 20,
     "metadata": {},
     "output_type": "execute_result"
    }
   ],
   "source": [
    "range\n"
   ]
  },
  {
   "cell_type": "code",
   "execution_count": 21,
   "id": "755df6ed",
   "metadata": {},
   "outputs": [],
   "source": [
    "linspace = np.linspace(1, 8, 4)"
   ]
  },
  {
   "cell_type": "code",
   "execution_count": 22,
   "id": "3eab5e67",
   "metadata": {},
   "outputs": [
    {
     "data": {
      "text/plain": [
       "array([1.        , 3.33333333, 5.66666667, 8.        ])"
      ]
     },
     "execution_count": 22,
     "metadata": {},
     "output_type": "execute_result"
    }
   ],
   "source": [
    "linspace"
   ]
  },
  {
   "cell_type": "code",
   "execution_count": 23,
   "id": "d7fa33e0",
   "metadata": {},
   "outputs": [],
   "source": [
    "emp= np.empty((2,5))"
   ]
  },
  {
   "cell_type": "code",
   "execution_count": 24,
   "id": "ee620f9c",
   "metadata": {},
   "outputs": [
    {
     "data": {
      "text/plain": [
       "array([[0., 0., 0., 0., 0.],\n",
       "       [0., 0., 0., 0., 0.]])"
      ]
     },
     "execution_count": 24,
     "metadata": {},
     "output_type": "execute_result"
    }
   ],
   "source": [
    "emp\n"
   ]
  },
  {
   "cell_type": "code",
   "execution_count": 25,
   "id": "7e51b504",
   "metadata": {},
   "outputs": [],
   "source": [
    "emp_like = np.empty_like(linspace)"
   ]
  },
  {
   "cell_type": "code",
   "execution_count": 26,
   "id": "d2ecc972",
   "metadata": {},
   "outputs": [
    {
     "data": {
      "text/plain": [
       "array([1.        , 3.33333333, 5.66666667, 8.        ])"
      ]
     },
     "execution_count": 26,
     "metadata": {},
     "output_type": "execute_result"
    }
   ],
   "source": [
    "emp_like"
   ]
  },
  {
   "cell_type": "code",
   "execution_count": 27,
   "id": "45d450e0",
   "metadata": {},
   "outputs": [],
   "source": [
    "idt = np.identity(45)"
   ]
  },
  {
   "cell_type": "code",
   "execution_count": 28,
   "id": "f8d872a8",
   "metadata": {},
   "outputs": [
    {
     "data": {
      "text/plain": [
       "array([[1., 0., 0., ..., 0., 0., 0.],\n",
       "       [0., 1., 0., ..., 0., 0., 0.],\n",
       "       [0., 0., 1., ..., 0., 0., 0.],\n",
       "       ...,\n",
       "       [0., 0., 0., ..., 1., 0., 0.],\n",
       "       [0., 0., 0., ..., 0., 1., 0.],\n",
       "       [0., 0., 0., ..., 0., 0., 1.]])"
      ]
     },
     "execution_count": 28,
     "metadata": {},
     "output_type": "execute_result"
    }
   ],
   "source": [
    "idt"
   ]
  },
  {
   "cell_type": "code",
   "execution_count": 29,
   "id": "92acd726",
   "metadata": {},
   "outputs": [
    {
     "data": {
      "text/plain": [
       "(45, 45)"
      ]
     },
     "execution_count": 29,
     "metadata": {},
     "output_type": "execute_result"
    }
   ],
   "source": [
    "idt.shape"
   ]
  },
  {
   "cell_type": "code",
   "execution_count": 30,
   "id": "a14f0f98",
   "metadata": {},
   "outputs": [],
   "source": [
    "ar = np.arange(20)"
   ]
  },
  {
   "cell_type": "code",
   "execution_count": 31,
   "id": "f25d72aa",
   "metadata": {},
   "outputs": [
    {
     "data": {
      "text/plain": [
       "array([ 0,  1,  2,  3,  4,  5,  6,  7,  8,  9, 10, 11, 12, 13, 14, 15, 16,\n",
       "       17, 18, 19])"
      ]
     },
     "execution_count": 31,
     "metadata": {},
     "output_type": "execute_result"
    }
   ],
   "source": [
    "ar"
   ]
  },
  {
   "cell_type": "code",
   "execution_count": 32,
   "id": "dd7ea7d0",
   "metadata": {},
   "outputs": [
    {
     "data": {
      "text/plain": [
       "array([[ 0,  1,  2,  3,  4],\n",
       "       [ 5,  6,  7,  8,  9],\n",
       "       [10, 11, 12, 13, 14],\n",
       "       [15, 16, 17, 18, 19]])"
      ]
     },
     "execution_count": 32,
     "metadata": {},
     "output_type": "execute_result"
    }
   ],
   "source": [
    "ar.reshape(4,5)"
   ]
  },
  {
   "cell_type": "code",
   "execution_count": 33,
   "id": "0931105a",
   "metadata": {},
   "outputs": [],
   "source": [
    "ar = ar.ravel()"
   ]
  },
  {
   "cell_type": "code",
   "execution_count": 34,
   "id": "7b8a3454",
   "metadata": {},
   "outputs": [
    {
     "data": {
      "text/plain": [
       "(20,)"
      ]
     },
     "execution_count": 34,
     "metadata": {},
     "output_type": "execute_result"
    }
   ],
   "source": [
    "ar.shape"
   ]
  },
  {
   "cell_type": "code",
   "execution_count": 35,
   "id": "9367d5e3",
   "metadata": {},
   "outputs": [
    {
     "data": {
      "text/plain": [
       "array([ 0,  1,  2,  3,  4,  5,  6,  7,  8,  9, 10, 11, 12, 13, 14, 15, 16,\n",
       "       17, 18, 19])"
      ]
     },
     "execution_count": 35,
     "metadata": {},
     "output_type": "execute_result"
    }
   ],
   "source": [
    "ar"
   ]
  },
  {
   "cell_type": "code",
   "execution_count": 36,
   "id": "17dce731",
   "metadata": {},
   "outputs": [],
   "source": [
    "x =[[2,4,6], [5, 3, 7] , [9, 5, 8]]"
   ]
  },
  {
   "cell_type": "code",
   "execution_count": 37,
   "id": "8ffa1e99",
   "metadata": {},
   "outputs": [],
   "source": [
    "ara = np.array(x)"
   ]
  },
  {
   "cell_type": "code",
   "execution_count": 38,
   "id": "bc30b6ed",
   "metadata": {},
   "outputs": [
    {
     "data": {
      "text/plain": [
       "array([[2, 4, 6],\n",
       "       [5, 3, 7],\n",
       "       [9, 5, 8]])"
      ]
     },
     "execution_count": 38,
     "metadata": {},
     "output_type": "execute_result"
    }
   ],
   "source": [
    "ara"
   ]
  },
  {
   "cell_type": "code",
   "execution_count": 39,
   "id": "e3aa4bfb",
   "metadata": {},
   "outputs": [
    {
     "data": {
      "text/plain": [
       "array([16, 12, 21])"
      ]
     },
     "execution_count": 39,
     "metadata": {},
     "output_type": "execute_result"
    }
   ],
   "source": [
    "ara.sum(axis = 0) #it gives summation of column elements"
   ]
  },
  {
   "cell_type": "code",
   "execution_count": 40,
   "id": "fdf581f4",
   "metadata": {},
   "outputs": [
    {
     "data": {
      "text/plain": [
       "array([12, 15, 22])"
      ]
     },
     "execution_count": 40,
     "metadata": {},
     "output_type": "execute_result"
    }
   ],
   "source": [
    "ara.sum(axis = 1) #it gives summation of row elements"
   ]
  },
  {
   "cell_type": "code",
   "execution_count": 41,
   "id": "1bb30e0f",
   "metadata": {},
   "outputs": [
    {
     "data": {
      "text/plain": [
       "array([[2, 5, 9],\n",
       "       [4, 3, 5],\n",
       "       [6, 7, 8]])"
      ]
     },
     "execution_count": 41,
     "metadata": {},
     "output_type": "execute_result"
    }
   ],
   "source": [
    "ara.T #transpose of a array"
   ]
  },
  {
   "cell_type": "code",
   "execution_count": 42,
   "id": "5a8a666e",
   "metadata": {},
   "outputs": [
    {
     "name": "stdout",
     "output_type": "stream",
     "text": [
      "2\n",
      "4\n",
      "6\n",
      "5\n",
      "3\n",
      "7\n",
      "9\n",
      "5\n",
      "8\n"
     ]
    }
   ],
   "source": [
    "for item in ara.flat :\n",
    "    print(item)"
   ]
  },
  {
   "cell_type": "code",
   "execution_count": 43,
   "id": "de9d83d2",
   "metadata": {},
   "outputs": [
    {
     "data": {
      "text/plain": [
       "2"
      ]
     },
     "execution_count": 43,
     "metadata": {},
     "output_type": "execute_result"
    }
   ],
   "source": [
    "ara.ndim #to print dimesnion of an array"
   ]
  },
  {
   "cell_type": "code",
   "execution_count": 44,
   "id": "7f0f99cb",
   "metadata": {},
   "outputs": [
    {
     "data": {
      "text/plain": [
       "36"
      ]
     },
     "execution_count": 44,
     "metadata": {},
     "output_type": "execute_result"
    }
   ],
   "source": [
    "ara.nbytes"
   ]
  },
  {
   "cell_type": "code",
   "execution_count": 45,
   "id": "d3ac333f",
   "metadata": {},
   "outputs": [],
   "source": [
    "one = ara.ravel()"
   ]
  },
  {
   "cell_type": "code",
   "execution_count": 46,
   "id": "313b6e4c",
   "metadata": {},
   "outputs": [
    {
     "data": {
      "text/plain": [
       "array([2, 4, 6, 5, 3, 7, 9, 5, 8])"
      ]
     },
     "execution_count": 46,
     "metadata": {},
     "output_type": "execute_result"
    }
   ],
   "source": [
    "one"
   ]
  },
  {
   "cell_type": "code",
   "execution_count": 47,
   "id": "ecb6dee8",
   "metadata": {},
   "outputs": [
    {
     "data": {
      "text/plain": [
       "6"
      ]
     },
     "execution_count": 47,
     "metadata": {},
     "output_type": "execute_result"
    }
   ],
   "source": [
    "one.argmax() #to print the index of largest element"
   ]
  },
  {
   "cell_type": "code",
   "execution_count": 48,
   "id": "bf729996",
   "metadata": {},
   "outputs": [
    {
     "data": {
      "text/plain": [
       "0"
      ]
     },
     "execution_count": 48,
     "metadata": {},
     "output_type": "execute_result"
    }
   ],
   "source": [
    "one.argmin() #to print the index of smallest element"
   ]
  },
  {
   "cell_type": "code",
   "execution_count": 49,
   "id": "37adc2d8",
   "metadata": {},
   "outputs": [
    {
     "data": {
      "text/plain": [
       "array([0, 4, 1, 3, 7, 2, 5, 8, 6], dtype=int64)"
      ]
     },
     "execution_count": 49,
     "metadata": {},
     "output_type": "execute_result"
    }
   ],
   "source": [
    "one.argsort() #to print the index of the sorted array"
   ]
  },
  {
   "cell_type": "code",
   "execution_count": 50,
   "id": "dcf44450",
   "metadata": {},
   "outputs": [],
   "source": [
    "listA1 =A1.ravel()"
   ]
  },
  {
   "cell_type": "code",
   "execution_count": 51,
   "id": "8566b86c",
   "metadata": {},
   "outputs": [
    {
     "data": {
      "text/plain": [
       "4"
      ]
     },
     "execution_count": 51,
     "metadata": {},
     "output_type": "execute_result"
    }
   ],
   "source": [
    "listA1.argmax()"
   ]
  },
  {
   "cell_type": "code",
   "execution_count": 52,
   "id": "3acab0be",
   "metadata": {},
   "outputs": [
    {
     "data": {
      "text/plain": [
       "0"
      ]
     },
     "execution_count": 52,
     "metadata": {},
     "output_type": "execute_result"
    }
   ],
   "source": [
    "listA1.argmin()"
   ]
  },
  {
   "cell_type": "code",
   "execution_count": 53,
   "id": "72ccd69a",
   "metadata": {},
   "outputs": [
    {
     "data": {
      "text/plain": [
       "4"
      ]
     },
     "execution_count": 53,
     "metadata": {},
     "output_type": "execute_result"
    }
   ],
   "source": [
    "listA1.argmax(axis = 0)"
   ]
  },
  {
   "cell_type": "code",
   "execution_count": null,
   "id": "2ca5ce1e",
   "metadata": {},
   "outputs": [],
   "source": []
  },
  {
   "cell_type": "code",
   "execution_count": 54,
   "id": "c4485070",
   "metadata": {},
   "outputs": [
    {
     "data": {
      "text/plain": [
       "0"
      ]
     },
     "execution_count": 54,
     "metadata": {},
     "output_type": "execute_result"
    }
   ],
   "source": [
    "listA1.argmin(axis = 0)"
   ]
  },
  {
   "cell_type": "code",
   "execution_count": null,
   "id": "48b0c0b7",
   "metadata": {},
   "outputs": [],
   "source": []
  },
  {
   "cell_type": "code",
   "execution_count": 55,
   "id": "cb9d0906",
   "metadata": {},
   "outputs": [
    {
     "data": {
      "text/plain": [
       "array([0, 1, 2, 3, 4], dtype=int64)"
      ]
     },
     "execution_count": 55,
     "metadata": {},
     "output_type": "execute_result"
    }
   ],
   "source": [
    "listA1.argsort(axis = 0)"
   ]
  },
  {
   "cell_type": "code",
   "execution_count": null,
   "id": "3afa56fd",
   "metadata": {},
   "outputs": [],
   "source": []
  },
  {
   "cell_type": "code",
   "execution_count": 56,
   "id": "f6cea3ce",
   "metadata": {},
   "outputs": [],
   "source": [
    "x1 = [[ 0,  1,  2,  3,  4],    #it is a list \n",
    "       [ 5,  6,  7,  8,  9],\n",
    "       [10, 11, 12, 13, 14],\n",
    "       [15, 16, 17, 18, 19]]"
   ]
  },
  {
   "cell_type": "code",
   "execution_count": 57,
   "id": "42d59f70",
   "metadata": {},
   "outputs": [],
   "source": [
    "x2 = [[ 2,  3,  1,  7,  5],    #it is a list \n",
    "       [3,  0,  4,  6,  2],\n",
    "       [9,  8,  7,  6, 23],\n",
    "       [1,  6,  7,  1,  9]]"
   ]
  },
  {
   "cell_type": "code",
   "execution_count": 58,
   "id": "ae973c71",
   "metadata": {},
   "outputs": [
    {
     "data": {
      "text/plain": [
       "[[0, 1, 2, 3, 4],\n",
       " [5, 6, 7, 8, 9],\n",
       " [10, 11, 12, 13, 14],\n",
       " [15, 16, 17, 18, 19],\n",
       " [2, 3, 1, 7, 5],\n",
       " [3, 0, 4, 6, 2],\n",
       " [9, 8, 7, 6, 23],\n",
       " [1, 6, 7, 1, 9]]"
      ]
     },
     "execution_count": 58,
     "metadata": {},
     "output_type": "execute_result"
    }
   ],
   "source": [
    "x1 + x2     #basically we are adding lists"
   ]
  },
  {
   "cell_type": "code",
   "execution_count": 59,
   "id": "21d811eb",
   "metadata": {},
   "outputs": [],
   "source": [
    "x3 = np.array(x1)\n",
    "x4 = np.array(x2)\n",
    " "
   ]
  },
  {
   "cell_type": "code",
   "execution_count": 60,
   "id": "c5872aa8",
   "metadata": {},
   "outputs": [
    {
     "data": {
      "text/plain": [
       "array([[ 2,  4,  3, 10,  9],\n",
       "       [ 8,  6, 11, 14, 11],\n",
       "       [19, 19, 19, 19, 37],\n",
       "       [16, 22, 24, 19, 28]])"
      ]
     },
     "execution_count": 60,
     "metadata": {},
     "output_type": "execute_result"
    }
   ],
   "source": [
    "#addition of sum of corresponding elements of list1 and list2\n",
    "\n",
    "x3+x4"
   ]
  },
  {
   "cell_type": "code",
   "execution_count": 61,
   "id": "743f62af",
   "metadata": {},
   "outputs": [
    {
     "data": {
      "text/plain": [
       "190"
      ]
     },
     "execution_count": 61,
     "metadata": {},
     "output_type": "execute_result"
    }
   ],
   "source": [
    "x3.sum() #sum of all elements of array x3"
   ]
  },
  {
   "cell_type": "code",
   "execution_count": 62,
   "id": "b5c95b9d",
   "metadata": {},
   "outputs": [
    {
     "data": {
      "text/plain": [
       "(19, 0)"
      ]
     },
     "execution_count": 62,
     "metadata": {},
     "output_type": "execute_result"
    }
   ],
   "source": [
    "x3.max(), x3.min() #printing maximum and minimum elements in array x3"
   ]
  },
  {
   "cell_type": "code",
   "execution_count": 63,
   "id": "2d24a075",
   "metadata": {},
   "outputs": [
    {
     "data": {
      "text/plain": [
       "array([[ 0,  1,  2,  3,  4],\n",
       "       [ 5,  6,  7,  8,  9],\n",
       "       [10, 11, 12, 13, 14],\n",
       "       [15, 16, 17, 18, 19]])"
      ]
     },
     "execution_count": 63,
     "metadata": {},
     "output_type": "execute_result"
    }
   ],
   "source": [
    "x3"
   ]
  },
  {
   "cell_type": "code",
   "execution_count": 64,
   "id": "0f755e30",
   "metadata": {},
   "outputs": [
    {
     "data": {
      "text/plain": [
       "(array([2, 2, 2, 2, 3, 3, 3, 3, 3], dtype=int64),\n",
       " array([1, 2, 3, 4, 0, 1, 2, 3, 4], dtype=int64))"
      ]
     },
     "execution_count": 64,
     "metadata": {},
     "output_type": "execute_result"
    }
   ],
   "source": [
    "np.where(x3>10)"
   ]
  },
  {
   "cell_type": "code",
   "execution_count": 65,
   "id": "af2cdf68",
   "metadata": {},
   "outputs": [
    {
     "data": {
      "text/plain": [
       "array([10, 21, 34, 56, 89], dtype=int64)"
      ]
     },
     "execution_count": 65,
     "metadata": {},
     "output_type": "execute_result"
    }
   ],
   "source": [
    "listA1"
   ]
  },
  {
   "cell_type": "code",
   "execution_count": 66,
   "id": "dd8e9bfd",
   "metadata": {},
   "outputs": [
    {
     "data": {
      "text/plain": [
       "(array([1, 2, 3, 4], dtype=int64),)"
      ]
     },
     "execution_count": 66,
     "metadata": {},
     "output_type": "execute_result"
    }
   ],
   "source": [
    "np.where(listA1>10)"
   ]
  },
  {
   "cell_type": "code",
   "execution_count": 67,
   "id": "a575b379",
   "metadata": {},
   "outputs": [
    {
     "data": {
      "text/plain": [
       "19"
      ]
     },
     "execution_count": 67,
     "metadata": {},
     "output_type": "execute_result"
    }
   ],
   "source": [
    "np.count_nonzero(x3)"
   ]
  },
  {
   "cell_type": "code",
   "execution_count": 68,
   "id": "6ef623dd",
   "metadata": {},
   "outputs": [
    {
     "data": {
      "text/plain": [
       "(array([0, 0, 0, 0, 1, 1, 1, 1, 1, 2, 2, 2, 2, 2, 3, 3, 3, 3, 3],\n",
       "       dtype=int64),\n",
       " array([1, 2, 3, 4, 0, 1, 2, 3, 4, 0, 1, 2, 3, 4, 0, 1, 2, 3, 4],\n",
       "       dtype=int64))"
      ]
     },
     "execution_count": 68,
     "metadata": {},
     "output_type": "execute_result"
    }
   ],
   "source": [
    "np.nonzero(x3)"
   ]
  },
  {
   "cell_type": "markdown",
   "id": "a0a17a80",
   "metadata": {},
   "source": [
    "**PROGRAMS ON NUMPY ARRAY**"
   ]
  },
  {
   "cell_type": "code",
   "execution_count": 69,
   "id": "5ab6a123",
   "metadata": {},
   "outputs": [],
   "source": [
    "import numpy as np\n",
    "A1 = np.array([[12, 23,  34],\n",
    "              [21,  32,  4],\n",
    "              [5,   7,   9]])"
   ]
  },
  {
   "cell_type": "code",
   "execution_count": 70,
   "id": "377a77d5",
   "metadata": {},
   "outputs": [
    {
     "data": {
      "text/plain": [
       "array([[12, 23, 34],\n",
       "       [21, 32,  4],\n",
       "       [ 5,  7,  9]])"
      ]
     },
     "execution_count": 70,
     "metadata": {},
     "output_type": "execute_result"
    }
   ],
   "source": [
    "A1"
   ]
  },
  {
   "cell_type": "code",
   "execution_count": 71,
   "id": "cefd18d7",
   "metadata": {},
   "outputs": [],
   "source": [
    "A2 = np.array([[ 2,  3,  4],                                                             \n",
    "               [ 5,  6,  7],                                                             \n",
    "               [ 8,  9,  10]]) "
   ]
  },
  {
   "cell_type": "code",
   "execution_count": 72,
   "id": "4fef3026",
   "metadata": {},
   "outputs": [
    {
     "data": {
      "text/plain": [
       "array([[ 2,  3,  4],\n",
       "       [ 5,  6,  7],\n",
       "       [ 8,  9, 10]])"
      ]
     },
     "execution_count": 72,
     "metadata": {},
     "output_type": "execute_result"
    }
   ],
   "source": [
    "A2"
   ]
  },
  {
   "cell_type": "code",
   "execution_count": 73,
   "id": "64bd9108",
   "metadata": {},
   "outputs": [
    {
     "name": "stdout",
     "output_type": "stream",
     "text": [
      "addition will give : [[14 26 38]\n",
      " [26 38 11]\n",
      " [13 16 19]]\n",
      "subtraction will give : [[10 20 30]\n",
      " [16 26 -3]\n",
      " [-3 -2 -1]]\n",
      "multiplication will give : [[ 24  69 136]\n",
      " [105 192  28]\n",
      " [ 40  63  90]]\n",
      "division will give : [[6.         7.66666667 8.5       ]\n",
      " [4.2        5.33333333 0.57142857]\n",
      " [0.625      0.77777778 0.9       ]]\n",
      "mod will give : [[14 26 38]\n",
      " [26 38 11]\n",
      " [13 16 19]]\n",
      "remainder will give : [[14 26 38]\n",
      " [26 38 11]\n",
      " [13 16 19]]\n"
     ]
    }
   ],
   "source": [
    "Ad = np.add(A1, A2)\n",
    "SB = np.subtract(A1, A2)\n",
    "Ml = np.multiply(A1, A2)\n",
    "Di = np.divide(A1, A2)\n",
    "Md = np.mod(A1, A2)\n",
    "Rr = np.remainder(A1, A2)\n",
    "\n",
    "\n",
    "print('addition will give : {0}'.format(Ad))\n",
    "print('subtraction will give : {0}'.format(SB))\n",
    "print('multiplication will give : {0}'.format(Ml))\n",
    "print('division will give : {0}'.format(Di))\n",
    "print('mod will give : {0}'.format(Ad))\n",
    "print('remainder will give : {0}'.format(Ad))"
   ]
  },
  {
   "cell_type": "code",
   "execution_count": 74,
   "id": "d0edbbf3",
   "metadata": {},
   "outputs": [],
   "source": [
    "Ac = A1"
   ]
  },
  {
   "cell_type": "code",
   "execution_count": 75,
   "id": "a88c9018",
   "metadata": {},
   "outputs": [
    {
     "data": {
      "text/plain": [
       "array([[12, 23, 34],\n",
       "       [21, 32,  4],\n",
       "       [ 5,  7,  9]])"
      ]
     },
     "execution_count": 75,
     "metadata": {},
     "output_type": "execute_result"
    }
   ],
   "source": [
    "Ac"
   ]
  },
  {
   "cell_type": "code",
   "execution_count": 76,
   "id": "4f7d4511",
   "metadata": {},
   "outputs": [],
   "source": [
    "z = np.where(Ac%2 ==0) #to check the position of even numbers"
   ]
  },
  {
   "cell_type": "code",
   "execution_count": 77,
   "id": "fbca8291",
   "metadata": {},
   "outputs": [
    {
     "data": {
      "text/plain": [
       "(array([0, 0, 1, 1], dtype=int64), array([0, 2, 1, 2], dtype=int64))"
      ]
     },
     "execution_count": 77,
     "metadata": {},
     "output_type": "execute_result"
    }
   ],
   "source": [
    "z"
   ]
  },
  {
   "cell_type": "code",
   "execution_count": 78,
   "id": "379d790e",
   "metadata": {},
   "outputs": [
    {
     "data": {
      "text/plain": [
       "(array([0, 1, 2, 2, 2], dtype=int64), array([1, 0, 0, 1, 2], dtype=int64))"
      ]
     },
     "execution_count": 78,
     "metadata": {},
     "output_type": "execute_result"
    }
   ],
   "source": [
    "np.where(Ac%2 !=0)  #to check the position of odd numbers"
   ]
  },
  {
   "cell_type": "code",
   "execution_count": 79,
   "id": "fadd92e2",
   "metadata": {},
   "outputs": [
    {
     "name": "stdout",
     "output_type": "stream",
     "text": [
      "[12 23 34 21 32  4  5  7  9]\n",
      "total even numbers are 4 and odd are 5\n"
     ]
    }
   ],
   "source": [
    "#program to count total even and odd numbers in a 1-d array\n",
    "import numpy as np\n",
    "Ac = Ac.ravel()\n",
    "Ac1 = np.array(Ac)\n",
    "p = Ac.size\n",
    "print(Ac1)\n",
    "nE = nO = 0\n",
    "for i in Ac1 :\n",
    "    if( i != 0 ):\n",
    "        if (i % 2 == 0):\n",
    "            nE = nE + 1\n",
    "        else:\n",
    "            nO = nO + 1\n",
    "    \n",
    "print(\"total even numbers are %d and odd are %d\" %(nE, nO ))       "
   ]
  },
  {
   "cell_type": "code",
   "execution_count": 80,
   "id": "328de861",
   "metadata": {},
   "outputs": [
    {
     "data": {
      "text/plain": [
       "array([[12, 23, 34],\n",
       "       [21, 32,  4],\n",
       "       [ 5,  7,  9]])"
      ]
     },
     "execution_count": 80,
     "metadata": {},
     "output_type": "execute_result"
    }
   ],
   "source": [
    "A1"
   ]
  },
  {
   "cell_type": "code",
   "execution_count": 81,
   "id": "3533e747",
   "metadata": {},
   "outputs": [
    {
     "data": {
      "text/plain": [
       "147"
      ]
     },
     "execution_count": 81,
     "metadata": {},
     "output_type": "execute_result"
    }
   ],
   "source": [
    "A1.sum()"
   ]
  },
  {
   "cell_type": "code",
   "execution_count": 82,
   "id": "da0f201d",
   "metadata": {},
   "outputs": [],
   "source": [
    "#functions to calculate average of an array\n",
    "avg = (A1.sum())/A1.size \n",
    "#or\n",
    "#np.average(A1)"
   ]
  },
  {
   "cell_type": "code",
   "execution_count": 86,
   "id": "96b7ae2c",
   "metadata": {},
   "outputs": [
    {
     "name": "stdout",
     "output_type": "stream",
     "text": [
      "23\n",
      "34\n",
      "21\n",
      "32\n"
     ]
    }
   ],
   "source": [
    "#program to print array elements greater than average\n",
    "avg1 = np.average(Ac1)\n",
    "for i in Ac1 : \n",
    "    if  i > avg :\n",
    "        print(i)"
   ]
  },
  {
   "cell_type": "code",
   "execution_count": 87,
   "id": "fcf3e53f",
   "metadata": {},
   "outputs": [
    {
     "name": "stdout",
     "output_type": "stream",
     "text": [
      "even and odd numers in the array are : \n",
      "12 : even\n",
      "23 : odd\n",
      "34 : even\n",
      "21 : odd\n",
      "32 : even\n",
      "4 : even\n",
      "5 : odd\n",
      "7 : odd\n",
      "9 : odd\n",
      "total even numbers are 4 and odd are 5\n",
      "positive and negative numers in the array are : \n",
      "12 : positive\n",
      "23 : positive\n",
      "34 : positive\n",
      "21 : positive\n",
      "32 : positive\n",
      "4 : positive\n",
      "5 : positive\n",
      "7 : positive\n",
      "9 : positive\n",
      "total positive numbers are 9 and negative are 0\n"
     ]
    }
   ],
   "source": [
    "#program to count and tell whether a number is positive, negative, even or odd ?\n",
    "array  = A1.ravel()\n",
    "\n",
    "nE = nO = 0\n",
    "print(\"even and odd numers in the array are : \")\n",
    "for i in array :\n",
    "    if (i % 2 == 0):\n",
    "        print(\"%d : even\" %i)\n",
    "        nE = nE + 1\n",
    "    else:\n",
    "        nO = nO + 1\n",
    "        print(\"%d : odd\" %i)\n",
    "\n",
    "print(\"total even numbers are %d and odd are %d\" %(nE, nO ))       \n",
    "\n",
    "print(\"positive and negative numers in the array are : \")\n",
    "nP = nN = 0\n",
    "for i in array :\n",
    "    if (i > 0):\n",
    "        print(\"%d : positive\" %i)\n",
    "        nP = nP + 1\n",
    "    elif (i < 0):\n",
    "        nN = nN + 1\n",
    "        print(\"%d : negative\" %i)\n",
    "    else :\n",
    "        none\n",
    "print(\"total positive numbers are %d and negative are %d\" %(nP, nN ))       "
   ]
  },
  {
   "cell_type": "code",
   "execution_count": 88,
   "id": "0d3da0d9",
   "metadata": {},
   "outputs": [
    {
     "name": "stdout",
     "output_type": "stream",
     "text": [
      "[[ 5  7  9]\n",
      " [21 32  4]\n",
      " [12 23 34]]\n"
     ]
    }
   ],
   "source": [
    "#program to print array elements in reverse order \n",
    "print(A1[::-1])"
   ]
  },
  {
   "cell_type": "code",
   "execution_count": 97,
   "id": "082ccd01",
   "metadata": {},
   "outputs": [
    {
     "data": {
      "text/plain": [
       "array([ 4,  5,  7,  9, 12, 21, 23, 32, 34])"
      ]
     },
     "execution_count": 97,
     "metadata": {},
     "output_type": "execute_result"
    }
   ],
   "source": [
    "Ac1"
   ]
  },
  {
   "cell_type": "code",
   "execution_count": 98,
   "id": "840bf696",
   "metadata": {},
   "outputs": [
    {
     "ename": "TypeError",
     "evalue": "'numpy.ndarray' object is not callable",
     "output_type": "error",
     "traceback": [
      "\u001b[1;31m---------------------------------------------------------------------------\u001b[0m",
      "\u001b[1;31mTypeError\u001b[0m                                 Traceback (most recent call last)",
      "\u001b[1;32mC:\\Users\\SURAJA~1\\AppData\\Local\\Temp/ipykernel_15240/3452659885.py\u001b[0m in \u001b[0;36m<module>\u001b[1;34m\u001b[0m\n\u001b[0;32m      1\u001b[0m \u001b[1;31m#program to print values at even indexes in an array\u001b[0m\u001b[1;33m\u001b[0m\u001b[1;33m\u001b[0m\u001b[0m\n\u001b[0;32m      2\u001b[0m \u001b[0mavg1\u001b[0m \u001b[1;33m=\u001b[0m \u001b[0mnp\u001b[0m\u001b[1;33m.\u001b[0m\u001b[0maverage\u001b[0m\u001b[1;33m(\u001b[0m\u001b[0mAc1\u001b[0m\u001b[1;33m)\u001b[0m\u001b[1;33m\u001b[0m\u001b[1;33m\u001b[0m\u001b[0m\n\u001b[1;32m----> 3\u001b[1;33m \u001b[1;32mfor\u001b[0m \u001b[0mi\u001b[0m \u001b[1;32min\u001b[0m \u001b[0mrange\u001b[0m\u001b[1;33m(\u001b[0m\u001b[0mAc1\u001b[0m\u001b[1;33m.\u001b[0m\u001b[0msize\u001b[0m\u001b[1;33m)\u001b[0m \u001b[1;33m:\u001b[0m\u001b[1;33m\u001b[0m\u001b[1;33m\u001b[0m\u001b[0m\n\u001b[0m\u001b[0;32m      4\u001b[0m     \u001b[1;32mif\u001b[0m  \u001b[1;33m(\u001b[0m\u001b[0mi\u001b[0m\u001b[1;33m%\u001b[0m\u001b[1;36m2\u001b[0m \u001b[1;33m==\u001b[0m \u001b[1;36m0\u001b[0m\u001b[1;33m)\u001b[0m \u001b[1;33m:\u001b[0m\u001b[1;33m\u001b[0m\u001b[1;33m\u001b[0m\u001b[0m\n\u001b[0;32m      5\u001b[0m         \u001b[0mprint\u001b[0m\u001b[1;33m(\u001b[0m\u001b[0mAc1\u001b[0m\u001b[1;33m[\u001b[0m\u001b[0mi\u001b[0m\u001b[1;33m]\u001b[0m\u001b[1;33m)\u001b[0m\u001b[1;33m\u001b[0m\u001b[1;33m\u001b[0m\u001b[0m\n",
      "\u001b[1;31mTypeError\u001b[0m: 'numpy.ndarray' object is not callable"
     ]
    }
   ],
   "source": [
    "#program to print values at even indexes in an array\n",
    "avg1 = np.average(Ac1)\n",
    "for i in range(Ac1.size) :\n",
    "    if  (i%2 == 0) :\n",
    "        print(Ac1[i])"
   ]
  },
  {
   "cell_type": "code",
   "execution_count": 99,
   "id": "db1a7386",
   "metadata": {},
   "outputs": [
    {
     "ename": "TypeError",
     "evalue": "'numpy.ndarray' object is not callable",
     "output_type": "error",
     "traceback": [
      "\u001b[1;31m---------------------------------------------------------------------------\u001b[0m",
      "\u001b[1;31mTypeError\u001b[0m                                 Traceback (most recent call last)",
      "\u001b[1;32mC:\\Users\\SURAJA~1\\AppData\\Local\\Temp/ipykernel_15240/134632706.py\u001b[0m in \u001b[0;36m<module>\u001b[1;34m\u001b[0m\n\u001b[0;32m      1\u001b[0m \u001b[1;31m#program to print values at odd indexes in an array\u001b[0m\u001b[1;33m\u001b[0m\u001b[1;33m\u001b[0m\u001b[0m\n\u001b[0;32m      2\u001b[0m \u001b[0mavg1\u001b[0m \u001b[1;33m=\u001b[0m \u001b[0mnp\u001b[0m\u001b[1;33m.\u001b[0m\u001b[0maverage\u001b[0m\u001b[1;33m(\u001b[0m\u001b[0mAc1\u001b[0m\u001b[1;33m)\u001b[0m\u001b[1;33m\u001b[0m\u001b[1;33m\u001b[0m\u001b[0m\n\u001b[1;32m----> 3\u001b[1;33m \u001b[1;32mfor\u001b[0m \u001b[0mt\u001b[0m \u001b[1;32min\u001b[0m \u001b[0mrange\u001b[0m\u001b[1;33m(\u001b[0m\u001b[0mAc1\u001b[0m\u001b[1;33m.\u001b[0m\u001b[0msize\u001b[0m\u001b[1;33m)\u001b[0m \u001b[1;33m:\u001b[0m\u001b[1;33m\u001b[0m\u001b[1;33m\u001b[0m\u001b[0m\n\u001b[0m\u001b[0;32m      4\u001b[0m     \u001b[1;32mif\u001b[0m  \u001b[1;33m(\u001b[0m\u001b[0mt\u001b[0m\u001b[1;33m%\u001b[0m\u001b[1;36m2\u001b[0m \u001b[1;33m!=\u001b[0m \u001b[1;36m0\u001b[0m\u001b[1;33m)\u001b[0m \u001b[1;33m:\u001b[0m\u001b[1;33m\u001b[0m\u001b[1;33m\u001b[0m\u001b[0m\n\u001b[0;32m      5\u001b[0m         \u001b[0mprint\u001b[0m\u001b[1;33m(\u001b[0m\u001b[0mAc1\u001b[0m\u001b[1;33m[\u001b[0m\u001b[0mi\u001b[0m\u001b[1;33m]\u001b[0m\u001b[1;33m)\u001b[0m\u001b[1;33m\u001b[0m\u001b[1;33m\u001b[0m\u001b[0m\n",
      "\u001b[1;31mTypeError\u001b[0m: 'numpy.ndarray' object is not callable"
     ]
    }
   ],
   "source": [
    "#program to print values at odd indexes in an array\n",
    "avg1 = np.average(Ac1)\n",
    "for t in range(Ac1.size) :\n",
    "    if  (t%2 != 0) :\n",
    "        print(Ac1[i])"
   ]
  },
  {
   "cell_type": "code",
   "execution_count": 100,
   "id": "4a9405ff",
   "metadata": {},
   "outputs": [
    {
     "data": {
      "text/plain": [
       "(array([0, 1, 2, 3, 4, 5, 6, 7, 8], dtype=int64),)"
      ]
     },
     "execution_count": 100,
     "metadata": {},
     "output_type": "execute_result"
    }
   ],
   "source": [
    "np.nonzero(Ac1) #positions of nonzero numers in the array"
   ]
  },
  {
   "cell_type": "code",
   "execution_count": 101,
   "id": "06a42beb",
   "metadata": {},
   "outputs": [
    {
     "data": {
      "text/plain": [
       "array([ 4,  5,  7,  9, 12, 21, 23, 32, 34])"
      ]
     },
     "execution_count": 101,
     "metadata": {},
     "output_type": "execute_result"
    }
   ],
   "source": [
    "Ac1"
   ]
  },
  {
   "cell_type": "code",
   "execution_count": 102,
   "id": "a4058731",
   "metadata": {},
   "outputs": [
    {
     "name": "stdout",
     "output_type": "stream",
     "text": [
      "32\n"
     ]
    }
   ],
   "source": [
    "#program to print second largest of an array\n",
    "Ac2 = Ac1\n",
    "Ac2.sort()\n",
    "print(Ac2[len(Ac2)-2])"
   ]
  },
  {
   "cell_type": "code",
   "execution_count": 103,
   "id": "1a2245ae",
   "metadata": {},
   "outputs": [
    {
     "name": "stdout",
     "output_type": "stream",
     "text": [
      "Enter Position to Left Rotate Array Elements = 4\n",
      "Original Array Elements Before Left Rotating\n",
      "[  5  10  15  18   9   2   6  66 332  82]\n",
      "\n",
      "Array Elements After Left Rotating\n",
      "[  9   2   6  66 332  82   5  10  15  18]\n"
     ]
    }
   ],
   "source": [
    "#program to rotate an array to left by n\n",
    "Al = np.array([5, 10, 15, 18, 9, 2,  6, 66, 332, 82])\n",
    "\n",
    "nl = int(input(\"Enter Position to Left Rotate Array Elements = \"))\n",
    "\n",
    "print('Original Array Elements Before Left Rotating')\n",
    "print(Al)\n",
    "\n",
    "Arr = np.concatenate((Al[nl:], Al[:nl]), axis = 0)\n",
    "\n",
    "print('\\nArray Elements After Left Rotating')\n",
    "print(Arr)"
   ]
  },
  {
   "cell_type": "code",
   "execution_count": 104,
   "id": "3768c079",
   "metadata": {},
   "outputs": [
    {
     "name": "stdout",
     "output_type": "stream",
     "text": [
      "Enter Position to Right Rotate Array Elements = 4\n",
      "Array Elements Before Right Rotating\n",
      "[  9   2   6  66 332  82   5  10  15  18]\n",
      "\n",
      " Array Elements After Right Rotating\n",
      "[  5  10  15  18   9   2   6  66 332  82]\n"
     ]
    }
   ],
   "source": [
    "#### program to rotate an array to right by n\n",
    "Ar = Arr\n",
    "\n",
    "nr = int(input(\"Enter Position to Right Rotate Array Elements = \"))\n",
    "\n",
    "print('Array Elements Before Right Rotating')\n",
    "print(Ar)\n",
    "\n",
    "arr1 = np.concatenate((Ar[-nr:], Ar[:-nr]), axis = 0)\n",
    "\n",
    "print('\\n Array Elements After Right Rotating')\n",
    "print(arr1)"
   ]
  },
  {
   "cell_type": "markdown",
   "id": "842bc662",
   "metadata": {},
   "source": [
    "# Thanks"
   ]
  }
 ],
 "metadata": {
  "kernelspec": {
   "display_name": "Python 3 (ipykernel)",
   "language": "python",
   "name": "python3"
  },
  "language_info": {
   "codemirror_mode": {
    "name": "ipython",
    "version": 3
   },
   "file_extension": ".py",
   "mimetype": "text/x-python",
   "name": "python",
   "nbconvert_exporter": "python",
   "pygments_lexer": "ipython3",
   "version": "3.9.7"
  }
 },
 "nbformat": 4,
 "nbformat_minor": 5
}
