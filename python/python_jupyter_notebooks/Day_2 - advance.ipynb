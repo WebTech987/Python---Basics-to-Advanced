{
 "cells": [
  {
   "cell_type": "markdown",
   "id": "59065fb4",
   "metadata": {},
   "source": [
    "# Advanced programs"
   ]
  },
  {
   "cell_type": "code",
   "execution_count": 1,
   "id": "77f9c951",
   "metadata": {},
   "outputs": [
    {
     "name": "stdout",
     "output_type": "stream",
     "text": [
      "Please Enter any Number: 23\n",
      "\n",
      " Number of Digits in the Given Number = 2\n",
      "\n",
      " sum of the Digits of the Given Number = 5\n"
     ]
    }
   ],
   "source": [
    "#counting number of digits in a number and sum of digits\n",
    "\n",
    "Number = int(input(\"Please Enter any Number: \"))\n",
    "x = Number \n",
    "Count = 0\n",
    "sum = 0\n",
    "while(Number > 0):\n",
    "    Number = Number // 10\n",
    "    Count = Count + 1\n",
    "\n",
    "print(\"\\n Number of Digits in the Given Number = %d\" %Count)\n",
    "a = 0\n",
    "while(x != 0):\n",
    "    sum = sum + (x % 10)\n",
    "    x = x // 10\n",
    "print(\"\\n sum of the Digits of the Given Number = %d\" %sum)"
   ]
  },
  {
   "cell_type": "code",
   "execution_count": 2,
   "id": "c076fa6a",
   "metadata": {},
   "outputs": [
    {
     "name": "stdout",
     "output_type": "stream",
     "text": [
      "please enter the range : 2\n",
      "0\n",
      "1\n",
      "The sum of the first 2 numbers of series is  : 1\n"
     ]
    }
   ],
   "source": [
    "#printing fibonacci series and it's sum\n",
    "n = int(input(\"please enter the range : \"))\n",
    "\n",
    "f1 = 0\n",
    "f2 = 1\n",
    "i =0\n",
    "sum = 0\n",
    "for i in range(1, n+1) :\n",
    "    if i==1 :\n",
    "        print(f1)\n",
    "        sum = sum +f1\n",
    "    if i==2 :\n",
    "        print(f2)\n",
    "        sum = sum + f2\n",
    "    elif i>2 :\n",
    "        x = f1+f2\n",
    "        f1 = f2\n",
    "        f2 = x\n",
    "        sum  = sum + x\n",
    "        print(x)\n",
    "print('The sum of the first {0} numbers of series is  : {1}'.format(n, sum))"
   ]
  },
  {
   "cell_type": "code",
   "execution_count": 3,
   "id": "9f7b5337",
   "metadata": {},
   "outputs": [
    {
     "name": "stdout",
     "output_type": "stream",
     "text": [
      "Please enter the number : 2\n",
      "1\n",
      "2\n"
     ]
    }
   ],
   "source": [
    "#program to print factors of a number\n",
    "n = int(input(\"Please enter the number : \"))\n",
    "for i in range(1, n+1):\n",
    "    if n%i ==0 : \n",
    "        print(i)"
   ]
  },
  {
   "cell_type": "code",
   "execution_count": 4,
   "id": "2ce20b75",
   "metadata": {},
   "outputs": [
    {
     "name": "stdout",
     "output_type": "stream",
     "text": [
      "Please enter the number : 3\n",
      "6\n"
     ]
    }
   ],
   "source": [
    "#program to calculate factorial of a number \n",
    "n = int(input(\"Please enter the number : \"))\n",
    "mul = 1\n",
    "while(n > 1):\n",
    "    mul = mul*n\n",
    "    n = n-1\n",
    "print(mul)"
   ]
  },
  {
   "cell_type": "code",
   "execution_count": 5,
   "id": "e6011fd4",
   "metadata": {},
   "outputs": [
    {
     "name": "stdout",
     "output_type": "stream",
     "text": [
      "Please enter the number : 123\n",
      "The first digit of the entered number is : 1\n",
      "The last digit of the number is : 3\n"
     ]
    }
   ],
   "source": [
    "#program to print first and last digits of a number\n",
    "n = int(input(\"Please enter the number : \"))\n",
    "x = n\n",
    "while(n>0) :\n",
    "    n = n // 10\n",
    "    if 10>n>0 :\n",
    "        print('The first digit of the entered number is : {0}'.format(n))\n",
    "a = x%10\n",
    "print('The last digit of the number is : {0}'.format(a))"
   ]
  },
  {
   "cell_type": "code",
   "execution_count": 6,
   "id": "b3ac91db",
   "metadata": {},
   "outputs": [
    {
     "name": "stdout",
     "output_type": "stream",
     "text": [
      "Please enter the first number : 12\n",
      "Please enter the second number : 4\n",
      "HCF of entered numbers is : \n",
      "4\n",
      "LCM of entered numbers is : \n",
      "12.0\n"
     ]
    }
   ],
   "source": [
    "#program to calculate HCF and LCM of two numbers \n",
    "\n",
    "a = int(input(\"Please enter the first number : \"))\n",
    "b = int(input(\"Please enter the second number : \"))\n",
    "\n",
    "print(\"HCF of entered numbers is : \")\n",
    "\n",
    "if a>b :\n",
    "    n1 = a\n",
    "    n2 = b\n",
    "    while (n2 != 0):\n",
    "        x = n2 \n",
    "        n2 = n1%n2\n",
    "        n1 = x\n",
    "    print(n1)\n",
    "if b>a :\n",
    "    n1 = b\n",
    "    n2 = a\n",
    "    while (n2 != 0):\n",
    "        x = n2 \n",
    "        n2 = n1%n2\n",
    "        n1 = x\n",
    "    print(n1)\n",
    "print(\"LCM of entered numbers is : \")\n",
    "x  = (a*b)/n1\n",
    "print(x)"
   ]
  },
  {
   "cell_type": "code",
   "execution_count": 7,
   "id": "5073fce4",
   "metadata": {},
   "outputs": [
    {
     "name": "stdout",
     "output_type": "stream",
     "text": [
      "Please enter the number : 123\n",
      "the numbers of digits in the number is : 3\n",
      "sum of digits exponent to number of digits of the number is : 36\n",
      "the entered number 123 is not a armstrong number \n"
     ]
    }
   ],
   "source": [
    "#program to check a number is armstrong or not \n",
    "#(ex :1, 2, 3, 4, 5, 6, 7, 8, 9, 153, 370, 371, 407, 1634, 8208, 9474, 54748... these are the armstrong numbers)\n",
    "\n",
    "n = int(input(\"Please enter the number : \"))\n",
    "i = 0\n",
    "m = n\n",
    "p = m\n",
    "while (n >0 ):\n",
    "    n = n//10\n",
    "    i = i+1\n",
    "print('the numbers of digits in the number is : {0}'.format(i))\n",
    "sum = 0\n",
    "for j in range(1, i+1): #we can also put \"while (m >0 ):\" instead of \"for j in range(1, i+1):\"\n",
    "    x = m%10\n",
    "    m = m//10\n",
    "    sum = sum + x**i\n",
    "print('sum of digits exponent to number of digits of the number is : {0}'.format(sum))\n",
    "if sum==p :\n",
    "    print('the entered number {0} is a armstrong number '.format(p))\n",
    "else :\n",
    "    print('the entered number {0} is not a armstrong number '.format(p))"
   ]
  },
  {
   "cell_type": "code",
   "execution_count": 8,
   "id": "8fca58d5",
   "metadata": {},
   "outputs": [
    {
     "name": "stdout",
     "output_type": "stream",
     "text": [
      "Please enter the number : 32\n",
      "the numbers of digits in the number is : 2\n",
      "sum of digits exponent to number of digits of the number is : 7\n",
      "the entered number 32 is not a disarium number \n"
     ]
    }
   ],
   "source": [
    "#program to check a number is disarium or not \n",
    "#(ex :89, 175, 518 these are the disarium numbers)\n",
    "\n",
    "n = int(input(\"Please enter the number : \"))\n",
    "i = 0\n",
    "m = n\n",
    "p = m\n",
    "while (n >0 ):\n",
    "    n = n//10\n",
    "    i = i+1\n",
    "print('the numbers of digits in the number is : {0}'.format(i))\n",
    "sum = 0\n",
    "for j in range(i, 0, -1): #we can also put \"while (m >0 ):\" instead of \"for j in range(1, i+1):\"\n",
    "    x = m%10\n",
    "    m = m//10\n",
    "    sum = sum + x**j\n",
    "print('sum of digits exponent to number of digits of the number is : {0}'.format(sum))\n",
    "if sum==p :\n",
    "    print('the entered number {0} is a disarium number '.format(p))\n",
    "else :\n",
    "    print('the entered number {0} is not a disarium number '.format(p))"
   ]
  },
  {
   "cell_type": "code",
   "execution_count": 9,
   "id": "b959a109",
   "metadata": {},
   "outputs": [
    {
     "name": "stdout",
     "output_type": "stream",
     "text": [
      "Please enter the number : 123\n",
      "the numbers of digits in the number is : 3\n",
      "reversed number is : 321\n"
     ]
    }
   ],
   "source": [
    "#program to reverse a number  \n",
    "n = int(input(\"Please enter the number : \"))\n",
    "i = 0\n",
    "m = n\n",
    "p = m\n",
    "while (n >0 ):\n",
    "    n = n//10\n",
    "    i = i+1\n",
    "print('the numbers of digits in the number is : {0}'.format(i))\n",
    "n2 = 0\n",
    "j =i-1\n",
    "while (m >0 ): #we can also put \"while (m >0 ):\" instead of \"for j in range(1, i+1):\"\n",
    "    x = m%10\n",
    "    m = m//10\n",
    "    n2 = n2 + x*(10**j)\n",
    "    j= j-1\n",
    "print('reversed number is : {0}'.format(n2))"
   ]
  },
  {
   "cell_type": "code",
   "execution_count": 10,
   "id": "437875a7",
   "metadata": {},
   "outputs": [
    {
     "name": "stdout",
     "output_type": "stream",
     "text": [
      "Please enter the number : 432\n",
      "the numbers of digits in the number is : 3\n",
      "reversed number is : 234\n",
      "the entered number 432 is not a palindrome number \n"
     ]
    }
   ],
   "source": [
    "#program to reverse a number and checking whether a number is palindrome or not\n",
    "#(ex :0, 1, 2, 3, 4, 5, 6, 7, 8, 9, 11, 22, 33, 44, 55, 66, 77, 88, 99, 101, 111, 121,...575... these are the disarium numbers)\n",
    "n = int(input(\"Please enter the number : \"))\n",
    "i = 0\n",
    "m = n\n",
    "p = m\n",
    "while (n >0 ):\n",
    "    n = n//10\n",
    "    i = i+1\n",
    "print('the numbers of digits in the number is : {0}'.format(i))\n",
    "n2 = 0\n",
    "j =i-1\n",
    "while (m >0 ): #we can also put \"while (m >0 ):\" instead of \"for j in range(1, i+1):\"\n",
    "    x = m%10\n",
    "    m = m//10\n",
    "    n2 = n2 + x*(10**j)\n",
    "    j= j-1\n",
    "print('reversed number is : {0}'.format(n2))\n",
    "if n2==p :\n",
    "    print('the entered number {0} is a palindrome number '.format(p))\n",
    "else :\n",
    "    print('the entered number {0} is not a palindrome number '.format(p))"
   ]
  },
  {
   "cell_type": "code",
   "execution_count": 11,
   "id": "54404d75",
   "metadata": {},
   "outputs": [
    {
     "name": "stdout",
     "output_type": "stream",
     "text": [
      "Please enter the number : 24\n",
      "The factors of 24 are \n",
      "1\n",
      "2\n",
      "3\n",
      "4\n",
      "6\n",
      "8\n",
      "12\n",
      "The number 24 is not a perfect number \n"
     ]
    }
   ],
   "source": [
    "#program to print divisors/factors of a number and checking if it is perfect number \n",
    "#(ex :6, 28, 496, and 8128...these are the perfect numbers)\n",
    "n = int(input(\"Please enter the number : \"))\n",
    "sum = 0\n",
    "print('The factors of {0} are '.format(n))\n",
    "for i in range(1, n):\n",
    "    if n % i ==0:\n",
    "        sum = sum + i\n",
    "        print(i)\n",
    "if sum == n:\n",
    "    print('The number {0} is a perfect number '.format(n))\n",
    "else :\n",
    "    print('The number {0} is not a perfect number '.format(n))"
   ]
  },
  {
   "cell_type": "markdown",
   "id": "6940dac3",
   "metadata": {},
   "source": [
    "# Thanks"
   ]
  }
 ],
 "metadata": {
  "kernelspec": {
   "display_name": "Python 3 (ipykernel)",
   "language": "python",
   "name": "python3"
  },
  "language_info": {
   "codemirror_mode": {
    "name": "ipython",
    "version": 3
   },
   "file_extension": ".py",
   "mimetype": "text/x-python",
   "name": "python",
   "nbconvert_exporter": "python",
   "pygments_lexer": "ipython3",
   "version": "3.9.7"
  }
 },
 "nbformat": 4,
 "nbformat_minor": 5
}
